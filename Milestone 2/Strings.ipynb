{
 "cells": [
  {
   "attachments": {},
   "cell_type": "markdown",
   "metadata": {},
   "source": [
    "# Strings"
   ]
  },
  {
   "attachments": {},
   "cell_type": "markdown",
   "metadata": {},
   "source": [
    "##### Check Palindrome"
   ]
  },
  {
   "cell_type": "code",
   "execution_count": 5,
   "metadata": {},
   "outputs": [
    {
     "name": "stdout",
     "output_type": "stream",
     "text": [
      "Not a palindrome\n"
     ]
    }
   ],
   "source": [
    "# Given a string, determine if it is a palindrome, considering only alphanumeric characters.\n",
    "\n",
    "# Palindrome\n",
    "# A palindrome is a word, number, phrase, or other sequences of characters which read the same backwards and forwards.\n",
    "# Example:\n",
    "# If the input string happens to be, \"malayalam\" then as we see that this word can be read the same as forward and backwards, it is said to be a valid palindrome.\n",
    "\n",
    "# The expected output for this example will print, 'true'.\n",
    "# From that being said, you are required to return a boolean value from the function that has been asked to implement.\n",
    "# Input Format:\n",
    "# The first and only line of input contains a string without any leading and trailing spaces. All the characters in the string would be in lower case.\n",
    "# Output Format:\n",
    "# The only line of output prints either 'true' or 'false'.\n",
    "# Note:\n",
    "# You are not required to print anything. It has already been taken care of.\n",
    "# Constraints:\n",
    "# 0 <= N <= 10^6\n",
    "# Where N is the length of the input string.\n",
    "\n",
    "# Time Limit: 1 second\n",
    "# Sample Input 1 :\n",
    "# abcdcba\n",
    "# Sample Output 1 :\n",
    "# true \n",
    "# Sample Input 2:\n",
    "# coding\n",
    "# Sample Output 2:\n",
    "# false\n",
    "\n",
    "\n",
    "\n",
    "s = str(input(\"Enter the string\"))\n",
    "end = len(s)-1\n",
    "start = 0\n",
    "temp = 0\n",
    "while start < end:\n",
    "    if(s[start] != s[end]):\n",
    "        print(\"Not a palindrome\")\n",
    "        break\n",
    "    else:\n",
    "        end-=1\n",
    "        start+=1\n",
    "        temp = 1\n",
    "\n",
    "if(temp == 1):\n",
    "    print(\"It is a palindrome\")\n",
    "\n"
   ]
  },
  {
   "cell_type": "code",
   "execution_count": 9,
   "metadata": {},
   "outputs": [
    {
     "name": "stdout",
     "output_type": "stream",
     "text": [
      " ebqeebsdd\n"
     ]
    }
   ],
   "source": [
    "# WAP to replace all the 'a' by 'e' in a string \n",
    "\n",
    "\n",
    "# Method 1 using inbuilt function\n",
    "\n",
    "# s = str(input(\"Enter the string: \"))\n",
    "# s = s.replace('a','e')\n",
    "# print(s)\n",
    "\n",
    "\n",
    "# Method 2 using User Defined Function\n",
    "\n",
    "def replace(str, char1,char2):\n",
    "    new_str = \" \"\n",
    "    for char in str:\n",
    "        if char == char1:\n",
    "            new_str+=char2\n",
    "        else:\n",
    "            new_str+=char\n",
    "    return new_str\n",
    "\n",
    "\n",
    "s = str(input(\"Enter the string: \"))\n",
    "char1 = 'a'\n",
    "char2 = 'e'\n",
    "ans = replace(s,char1,char2)\n",
    "print(ans)\n",
    "\n",
    "\n"
   ]
  },
  {
   "attachments": {},
   "cell_type": "markdown",
   "metadata": {},
   "source": [
    "##### Check Permutation"
   ]
  },
  {
   "cell_type": "code",
   "execution_count": 10,
   "metadata": {},
   "outputs": [
    {
     "name": "stdout",
     "output_type": "stream",
     "text": [
      "true\n"
     ]
    }
   ],
   "source": [
    "# For a given two strings, 'str1' and 'str2', check whether they are a permutation of each other or not.\n",
    "# Permutations of each other\n",
    "# Two strings are said to be a permutation of each other when either of the string's characters can be rearranged so that it becomes identical to the other one.\n",
    "\n",
    "# Example: \n",
    "# str1= \"sinrtg\" \n",
    "# str2 = \"string\"\n",
    "\n",
    "# The character of the first string(str1) can be rearranged to form str2 and hence we can say that the given strings are a permutation of each other.\n",
    "# Input Format:\n",
    "# The first line of input contains a string without any leading and trailing spaces, representing the first string 'str1'.\n",
    "\n",
    "# The second line of input contains a string without any leading and trailing spaces, representing the second string 'str2'.\n",
    "# Note:\n",
    "# All the characters in the input strings would be in lower case.\n",
    "# Output Format:\n",
    "# The only line of output prints either 'true' or 'false', denoting whether the two strings are a permutation of each other or not.\n",
    "\n",
    "# You are not required to print anything. It has already been taken care of. Just implement the function. \n",
    "# Constraints:\n",
    "# 0 <= N <= 10^6\n",
    "# Where N is the length of the input string.\n",
    "\n",
    "# Time Limit: 1 second\n",
    "# Sample Input 1:\n",
    "# abcde\n",
    "# baedc\n",
    "# Sample Output 1:\n",
    "# true\n",
    "# Sample Input 2:\n",
    "# abc\n",
    "# cbd\n",
    "# Sample Output 2:\n",
    "# false\n",
    "\n",
    "\n",
    "str1 = str(input())\n",
    "str1 = str1.lower()\n",
    "str2 = str(input())\n",
    "str2 = str2.lower()\n",
    "\n",
    "i = 0\n",
    "j = 0\n",
    "count = 0\n",
    "\n",
    "str1 = ''.join(sorted(str1))\n",
    "str2 = ''.join(sorted(str2))\n",
    "\n",
    "if(len(str1) == len(str2) == 1):\n",
    "    \n",
    "    if(str1[0] == str2[0]):\n",
    "        print(\"true\")\n",
    "    else:\n",
    "        print(\"false\")\n",
    "\n",
    "elif(len(str1) == len(str2)):\n",
    "    \n",
    "    while( i < len(str1) - 1 and j < len(str2) - 1):\n",
    "        if(str1[i] != str2[j]):\n",
    "            count = 1\n",
    "            break;\n",
    "        else:\n",
    "            count = 0\n",
    "            i = i + 1\n",
    "            j = j + 1\n",
    "    \n",
    "    if(count == 0):\n",
    "        print(\"true\")\n",
    "    else:\n",
    "        print(\"false\")\n",
    "\n",
    "else: \n",
    "    print(\"false\")\n"
   ]
  },
  {
   "attachments": {},
   "cell_type": "markdown",
   "metadata": {},
   "source": [
    "##### Remove Consecutive Duplicates"
   ]
  },
  {
   "cell_type": "code",
   "execution_count": 20,
   "metadata": {},
   "outputs": [
    {
     "name": "stdout",
     "output_type": "stream",
     "text": [
      "abcde\n"
     ]
    }
   ],
   "source": [
    "# For a given string(str), remove all the consecutive duplicate characters.\n",
    "# Example:\n",
    "# Input String: \"aaaa\"\n",
    "# Expected Output: \"a\"\n",
    "\n",
    "# Input String: \"aabbbcc\"\n",
    "# Expected Output: \"abc\"\n",
    "#  Input Format:\n",
    "# The first and only line of input contains a string without any leading and trailing spaces. All the characters in the string would be in lower case.\n",
    "# Output Format:\n",
    "# The only line of output prints the updated string.\n",
    "# Note:\n",
    "# You are not required to print anything. It has already been taken care of.\n",
    "# Constraints:\n",
    "# 0 <= N <= 10^6\n",
    "# Where N is the length of the input string.\n",
    "\n",
    "# Time Limit: 1 second\n",
    "# Sample Input 1:\n",
    "# aabccbaa\n",
    "# Sample Output 1:\n",
    "# abcba\n",
    "# Sample Input 2:\n",
    "# xxyyzxx\n",
    "# Sample Output 2:\n",
    "# xyzx\n",
    "\n",
    "\n",
    "\n",
    "s = str(input())\n",
    "new = ''\n",
    "for ele in s:\n",
    "    if ele not in new:\n",
    "        new+=ele\n",
    "    else:\n",
    "        continue\n",
    "print(new)"
   ]
  },
  {
   "attachments": {},
   "cell_type": "markdown",
   "metadata": {},
   "source": [
    "#### Reverse Each Word"
   ]
  },
  {
   "cell_type": "code",
   "execution_count": 23,
   "metadata": {},
   "outputs": [
    {
     "name": "stdout",
     "output_type": "stream",
     "text": [
      "emocleW ot gnidoC sajniN \n"
     ]
    }
   ],
   "source": [
    "# Aadil has been provided with a sentence in the form of a string as a function parameter. The task is to implement a function so as to print the sentence such that each word in the sentence is reversed.\n",
    "# Example:\n",
    "# Input Sentence: \"Hello, I am Aadil!\"\n",
    "# The expected output will print, \",olleH I ma !lidaA\".\n",
    "# Input Format:\n",
    "# The first and only line of input contains a string without any leading and trailing spaces. The input string represents the sentence given to Aadil.\n",
    "# Output Format:\n",
    "# The only line of output prints the sentence(string) such that each word in the sentence is reversed. \n",
    "# Constraints:\n",
    "# 0 <= N <= 10^6\n",
    "# Where N is the length of the input string.\n",
    "\n",
    "# Time Limit: 1 second\n",
    "# Sample Input 1:\n",
    "# Welcome to Coding Ninjas\n",
    "# Sample Output 1:\n",
    "# emocleW ot gnidoC sajniN\n",
    "# Sample Input 2:\n",
    "# Always indent your code\n",
    "# Sample Output 2:\n",
    "# syawlA tnedni ruoy edoc\n",
    "\n",
    "\n",
    "\n",
    "s = str(input())\n",
    "s = s.split(\" \")\n",
    "new = \"\"\n",
    "for i in s:\n",
    "    new+=i[::-1]\n",
    "    new+=\" \"\n",
    "print(new)\n",
    "\n"
   ]
  },
  {
   "attachments": {},
   "cell_type": "markdown",
   "metadata": {},
   "source": [
    "##### Remove character"
   ]
  },
  {
   "cell_type": "code",
   "execution_count": 24,
   "metadata": {},
   "outputs": [
    {
     "name": "stdout",
     "output_type": "stream",
     "text": [
      "bcd\n"
     ]
    }
   ],
   "source": [
    "# For a given a string(str) and a character X, write a function to remove all the occurrences of X from the given string.\n",
    "# The input string will remain unchanged if the given character(X) doesn't exist in the input string.\n",
    "# Input Format:\n",
    "# The first line of input contains a string without any leading and trailing spaces.\n",
    "\n",
    "# The second line of input contains a character(X) without any leading and trailing spaces.\n",
    "# Output Format:\n",
    "# The only line of output prints the updated string. \n",
    "# Note:\n",
    "# You are not required to print anything explicitly. It has already been taken care of.\n",
    "# Constraints:\n",
    "# 0 <= N <= 10^6\n",
    "# Where N is the length of the input string.\n",
    "\n",
    "# Time Limit: 1 second\n",
    "# Sample Input 1:\n",
    "# aabccbaa\n",
    "# a\n",
    "# Sample Output 1:\n",
    "# bccb\n",
    "# Sample Input 2:\n",
    "# xxyyzxx\n",
    "# y\n",
    "# Sample Output 2:\n",
    "# xxzxx\n",
    "\n",
    "\n",
    "string = str(input())\n",
    "char1 = str(input())\n",
    "char2 = \"\"\n",
    "\n",
    "string = string.replace(char1,char2)\n",
    "print(string)"
   ]
  },
  {
   "attachments": {},
   "cell_type": "markdown",
   "metadata": {},
   "source": [
    "##### Highest Occuring Character"
   ]
  },
  {
   "cell_type": "code",
   "execution_count": 31,
   "metadata": {},
   "outputs": [
    {
     "name": "stdout",
     "output_type": "stream",
     "text": [
      "Most frequent character:  a\n"
     ]
    }
   ],
   "source": [
    "# For a given a string(str), find and return the highest occurring character.\n",
    "# Example:\n",
    "# Input String: \"abcdeapapqarr\"\n",
    "# Expected Output: 'a'\n",
    "# Since 'a' has appeared four times in the string which happens to be the highest frequency character, the answer would be 'a'.\n",
    "# If there are two characters in the input string with the same frequency, return the character which comes first.\n",
    "# Consider:\n",
    "# Assume all the characters in the given string to be in lowercase always.\n",
    "# Input Format:\n",
    "# The first and only line of input contains a string without any leading and trailing spaces.\n",
    "# Output Format:\n",
    "# The only line of output prints the updated string. \n",
    "# Note:\n",
    "# You are not required to print anything explicitly. It has already been taken care of.\n",
    "# Constraints:\n",
    "# 0 <= N <= 10^6\n",
    "# Where N is the length of the input string.\n",
    "\n",
    "# Time Limit: 1 second\n",
    "# Sample Input 1:\n",
    "# abdefgbabfba\n",
    "# Sample Output 1:\n",
    "# b\n",
    "# Sample Input 2:\n",
    "# xy\n",
    "# Sample Output 2:\n",
    "# x\n",
    "\n",
    "\n",
    "string = str(input())\n",
    "\n",
    "char_freq={}\n",
    "\n",
    "for i in string:\n",
    "    if i in char_freq:\n",
    "        char_freq[i]=char_freq[i]+1\n",
    "    else:\n",
    "        char_freq[i] = 1\n",
    "result= max(char_freq, key = char_freq.get)\n",
    "\n",
    "print(\"Most frequent character: \",result)\n",
    "\n"
   ]
  },
  {
   "attachments": {},
   "cell_type": "markdown",
   "metadata": {},
   "source": [
    "##### Compress the String"
   ]
  },
  {
   "cell_type": "code",
   "execution_count": 32,
   "metadata": {},
   "outputs": [
    {
     "name": "stdout",
     "output_type": "stream",
     "text": [
      "a3b2c4\n"
     ]
    }
   ],
   "source": [
    "# Write a program to do basic string compression. For a character which is consecutively repeated more than once, replace consecutive duplicate occurrences with the count of repetitions.\n",
    "# Example:\n",
    "# If a string has 'x' repeated 5 times, replace this \"xxxxx\" with \"x5\".\n",
    "\n",
    "# The string is compressed only when the repeated character count is more than 1.\n",
    "# Note:\n",
    "# Consecutive count of every character in the input string is less than or equal to 9.\n",
    "# Input Format:\n",
    "# The first and only line of input contains a string without any leading and trailing spaces.\n",
    "# Output Format:\n",
    "# The output contains the string after compression printed in single line.\n",
    "# Note:\n",
    "# You are not required to print anything. It has already been taken care of. Just implement the given function.\n",
    "# Constraints:\n",
    "# 0 <= N <= 10^6\n",
    "\n",
    "# Where 'N' is the length of the input string.\n",
    "\n",
    "# Time Limit: 1 sec\n",
    "# Sample Input 1:\n",
    "# aaabbccdsa\n",
    "# Sample Output 1:\n",
    "# a3b2c2dsa\n",
    "# Explanation for Sample Output 1:\n",
    "# In the given string 'a' is repeated 3 times, 'b' is repeated 2 times, 'c' is repeated 2 times and 'd', 's' and 'a' and occuring 1 time hence no compression for last 3 characters.\n",
    "# Sample Input 2:\n",
    "# aaabbcddeeeee\n",
    "# Sample Output 2:\n",
    "# a3b2cd2e5\n",
    "# Explanation for Sample Output 2:\n",
    "# In the given string 'a' is repeated 3 times, 'b' is repeated 2 times, 'c' is occuring single time, 'd' is repeating 2 times and 'e' is repeating 5times.\n",
    "\n",
    "\n",
    "\n",
    "def compress(string):\n",
    "    res = \"\"\n",
    "    count = 1\n",
    "\n",
    "# Add in first character\n",
    "    res += string[0]\n",
    "\n",
    "    #Iterate through loop, skipping last one\n",
    "    for i in range(len(string) - 1):\n",
    "        if(string[i] == string[i + 1]):\n",
    "            count += 1\n",
    "        else:\n",
    "            if(count > 1):\n",
    "                #Ignore if no repeats\n",
    "                res += str(count)\n",
    "            res += string[i + 1]\n",
    "            count = 1\n",
    "    #print last one\n",
    "    if(count > 1):\n",
    "        res += str(count)\n",
    "    return res\n",
    "\n",
    "string = str(input())\n",
    "string = compress(string)\n",
    "print(string)"
   ]
  }
 ],
 "metadata": {
  "kernelspec": {
   "display_name": "Python 3",
   "language": "python",
   "name": "python3"
  },
  "language_info": {
   "codemirror_mode": {
    "name": "ipython",
    "version": 3
   },
   "file_extension": ".py",
   "mimetype": "text/x-python",
   "name": "python",
   "nbconvert_exporter": "python",
   "pygments_lexer": "ipython3",
   "version": "3.11.1"
  },
  "orig_nbformat": 4
 },
 "nbformat": 4,
 "nbformat_minor": 2
}
