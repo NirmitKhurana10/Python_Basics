{
 "cells": [
  {
   "attachments": {},
   "cell_type": "markdown",
   "metadata": {},
   "source": [
    "### Searching and Sorting"
   ]
  },
  {
   "attachments": {},
   "cell_type": "markdown",
   "metadata": {},
   "source": [
    "##### Code Binary Search"
   ]
  },
  {
   "cell_type": "code",
   "execution_count": 14,
   "metadata": {},
   "outputs": [
    {
     "name": "stdout",
     "output_type": "stream",
     "text": [
      "Please enter the size bigger than 0!\n",
      "Please enter the size bigger than 0!\n",
      "Please enter the size bigger than 0!\n",
      "3\n"
     ]
    }
   ],
   "source": [
    "# You have been given a sorted(in ascending order) integer array/list(ARR) of size N and an element X. Write a function \n",
    "# to search this element in the given input array/list using 'Binary Search'. Return the index of the element in the input array/list. \n",
    "# If the element is not present in the array/list, then return -1.\n",
    "# Input format :\n",
    "# The first line contains an Integer 'N', which denotes the size of the array/list.\n",
    "\n",
    "# The second line contains 'N' single space-separated integers representing the elements in the array/list.\n",
    "\n",
    "# The third line contains the value of X to be searched for in the array/list.\n",
    "# Output Format :\n",
    "# Print the index at which X is present for each test case, -1 otherwise.\n",
    "# Constraints :\n",
    "# 0 <= N <= 10^6\n",
    "# 0 <= X <= 10^9\n",
    "# Time Limit: 1 sec\n",
    "# Sample Input 1:\n",
    "# 7\n",
    "# 1 3 7 9 11 12 45\n",
    "# 3\n",
    "# Sample Output 1:\n",
    "# 1\n",
    "# Sample Input 2:\n",
    "# 7\n",
    "# 1 2 3 4 5 6 7\n",
    "# 9\n",
    "# Sample Output 2:\n",
    "# -1\n",
    "\n",
    "\n",
    "def binarySearch(size,arr,element):\n",
    "    arr.sort()\n",
    "    start = 1\n",
    "    end = size - 1\n",
    "    middle = (start + end)//2\n",
    "    while(start <= end):\n",
    "        if(arr[middle] == element):\n",
    "            return middle\n",
    "        elif(arr[middle] > element):\n",
    "            end = middle - 1\n",
    "        else:\n",
    "            start = middle + 1\n",
    "        middle = (start + end)//2\n",
    "    if(start>end):\n",
    "        return -1\n",
    "\n",
    "\n",
    "\n",
    "size = int(input())\n",
    "while(size <= 0):\n",
    "    print(\"Please enter the size bigger than 0!\")\n",
    "    size = int(input())\n",
    "arr = [int(x) for x in input().split()]\n",
    "element = int(input())\n",
    "ans = binarySearch(size,arr,element)\n",
    "print(ans)\n"
   ]
  },
  {
   "attachments": {},
   "cell_type": "markdown",
   "metadata": {},
   "source": [
    "##### Selection Sort"
   ]
  },
  {
   "cell_type": "code",
   "execution_count": null,
   "metadata": {},
   "outputs": [],
   "source": [
    "# Provided with a random integer array/list(ARR) of size N, you have been required to sort this array using 'Selection Sort'.\n",
    "#  Note:\n",
    "# Change in the input array/list itself. You don't need to return or print the elements.\n",
    "# Input format :\n",
    "# The first line contains an Integer 't' which denotes the number of test cases or queries to be run. Then the test cases follow.\n",
    "\n",
    "# First line of each test case or query contains an integer 'N' representing the size of the array/list.\n",
    "\n",
    "# Second line contains 'N' single space separated integers representing the elements in the array/list.\n",
    "# Output format :\n",
    "# For each test case, print the elements of the array/list in sorted order separated by a single space.\n",
    "\n",
    "# Output for every test case will be printed in a separate line.\n",
    "# Constraints :\n",
    "# 1 <= t <= 10^2\n",
    "# 0 <= N <= 10^3\n",
    "# Time Limit: 1 sec\n",
    "# Sample Input 1:\n",
    "# 1\n",
    "# 7\n",
    "# 2 13 4 1 3 6 28\n",
    "# Sample Output 1:\n",
    "# 1 2 3 4 6 13 28\n",
    "\n",
    "\n",
    "\n"
   ]
  }
 ],
 "metadata": {
  "kernelspec": {
   "display_name": "Python 3",
   "language": "python",
   "name": "python3"
  },
  "language_info": {
   "codemirror_mode": {
    "name": "ipython",
    "version": 3
   },
   "file_extension": ".py",
   "mimetype": "text/x-python",
   "name": "python",
   "nbconvert_exporter": "python",
   "pygments_lexer": "ipython3",
   "version": "3.11.1"
  },
  "orig_nbformat": 4,
  "vscode": {
   "interpreter": {
    "hash": "438f12176dc4e3a72f6ecf05b0a3153af1e566413d8f2d9a81aafac1c55402a7"
   }
  }
 },
 "nbformat": 4,
 "nbformat_minor": 2
}
