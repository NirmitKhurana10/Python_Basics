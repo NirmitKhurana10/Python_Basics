{
 "cells": [
  {
   "attachments": {},
   "cell_type": "markdown",
   "metadata": {},
   "source": [
    "### Arrays and Lists"
   ]
  },
  {
   "attachments": {},
   "cell_type": "markdown",
   "metadata": {},
   "source": [
    "##### Array Sum"
   ]
  },
  {
   "cell_type": "code",
   "execution_count": 4,
   "metadata": {},
   "outputs": [
    {
     "name": "stdout",
     "output_type": "stream",
     "text": [
      "10\n"
     ]
    }
   ],
   "source": [
    "# Given an array of length N, you need to find and print the sum of all elements of the array.\n",
    "# Input Format :\n",
    "# Line 1 : An Integer N i.e. size of array\n",
    "# Line 2 : N integers which are elements of the array, separated by spaces\n",
    "# Output Format :\n",
    "# Sum\n",
    "# Constraints :\n",
    "# 1 <= N <= 10^6\n",
    "# Sample Input :\n",
    "# 3\n",
    "# 9 8 9\n",
    "# Sample Output :\n",
    "# 26\n",
    "\n",
    "\n",
    "sum = 0\n",
    "size = int(input())\n",
    "arr = [int(x) for x in input().split()]\n",
    "for i in range(len(arr)):\n",
    "    sum += arr[i]\n",
    "print(sum)"
   ]
  },
  {
   "attachments": {},
   "cell_type": "markdown",
   "metadata": {},
   "source": [
    "##### Swap Alternate"
   ]
  },
  {
   "cell_type": "code",
   "execution_count": 6,
   "metadata": {},
   "outputs": [
    {
     "name": "stdout",
     "output_type": "stream",
     "text": [
      "3 9 4 6 8 7\n"
     ]
    }
   ],
   "source": [
    "# You have been given an array/list(ARR) of size N. You need to swap every pair of alternate elements in the array/list.\n",
    "# You don't need to print or return anything, just change in the input array itself.\n",
    "# Input Format :\n",
    "# The first line contains an Integer 't' which denotes the number of test cases or queries to be run. Then the test cases follow.\n",
    "\n",
    "# First line of each test case or query contains an integer 'N' representing the size of the array/list.\n",
    "\n",
    "# Second line contains 'N' single space separated integers representing the elements in the array/list.\n",
    "# Output Format :\n",
    "# For each test case, print the elements of the resulting array in a single row separated by a single space.\n",
    "\n",
    "# Output for every test case will be printed in a separate line.\n",
    "# Constraints :\n",
    "# 1 <= t <= 10^2\n",
    "# 0 <= N <= 10^5\n",
    "# Time Limit: 1sec\n",
    "# Sample Input 1:\n",
    "# 1\n",
    "# 6\n",
    "# 9 3 6 12 4 32\n",
    "# Sample Output 1 :\n",
    "# 3 9 12 6 32 4\n",
    "\n",
    "\n",
    "\n",
    "\n",
    "\n",
    "def swappingAlt(arr):\n",
    "    for i in range(0,len(arr)-1,2):\n",
    "        arr[i],arr[i+1] = arr[i+1],arr[i]\n",
    "    return arr\n",
    "\n",
    "\n",
    "\n",
    "cases = int(input())\n",
    "while cases > 0:\n",
    "    n = int(input())\n",
    "    arr = [int(x) for x in input().split()]\n",
    "    ans = swappingAlt(arr)\n",
    "    print(*ans)\n",
    "    cases -= 1\n",
    "\n",
    "\n"
   ]
  }
 ],
 "metadata": {
  "kernelspec": {
   "display_name": "Python 3",
   "language": "python",
   "name": "python3"
  },
  "language_info": {
   "codemirror_mode": {
    "name": "ipython",
    "version": 3
   },
   "file_extension": ".py",
   "mimetype": "text/x-python",
   "name": "python",
   "nbconvert_exporter": "python",
   "pygments_lexer": "ipython3",
   "version": "3.8.10"
  },
  "orig_nbformat": 4,
  "vscode": {
   "interpreter": {
    "hash": "916dbcbb3f70747c44a77c7bcd40155683ae19c65e1c03b4aa3499c5328201f1"
   }
  }
 },
 "nbformat": 4,
 "nbformat_minor": 2
}
