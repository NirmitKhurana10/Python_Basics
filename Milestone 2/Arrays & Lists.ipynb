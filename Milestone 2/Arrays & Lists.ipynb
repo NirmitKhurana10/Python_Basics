{
 "cells": [
  {
   "attachments": {},
   "cell_type": "markdown",
   "metadata": {},
   "source": [
    "### Arrays and Lists"
   ]
  },
  {
   "attachments": {},
   "cell_type": "markdown",
   "metadata": {},
   "source": [
    "##### Array Sum"
   ]
  },
  {
   "cell_type": "code",
   "execution_count": 4,
   "metadata": {},
   "outputs": [
    {
     "name": "stdout",
     "output_type": "stream",
     "text": [
      "10\n"
     ]
    }
   ],
   "source": [
    "# Given an array of length N, you need to find and print the sum of all elements of the array.\n",
    "# Input Format :\n",
    "# Line 1 : An Integer N i.e. size of array\n",
    "# Line 2 : N integers which are elements of the array, separated by spaces\n",
    "# Output Format :\n",
    "# Sum\n",
    "# Constraints :\n",
    "# 1 <= N <= 10^6\n",
    "# Sample Input :\n",
    "# 3\n",
    "# 9 8 9\n",
    "# Sample Output :\n",
    "# 26\n",
    "\n",
    "\n",
    "sum = 0\n",
    "size = int(input())\n",
    "arr = [int(x) for x in input().split()]\n",
    "for i in range(len(arr)):\n",
    "    sum += arr[i]\n",
    "print(sum)"
   ]
  },
  {
   "attachments": {},
   "cell_type": "markdown",
   "metadata": {},
   "source": [
    "##### Swap Alternate"
   ]
  },
  {
   "cell_type": "code",
   "execution_count": 6,
   "metadata": {},
   "outputs": [
    {
     "name": "stdout",
     "output_type": "stream",
     "text": [
      "3 9 4 6 8 7\n"
     ]
    }
   ],
   "source": [
    "# You have been given an array/list(ARR) of size N. You need to swap every pair of alternate elements in the array/list.\n",
    "# You don't need to print or return anything, just change in the input array itself.\n",
    "# Input Format :\n",
    "# The first line contains an Integer 't' which denotes the number of test cases or queries to be run. Then the test cases follow.\n",
    "\n",
    "# First line of each test case or query contains an integer 'N' representing the size of the array/list.\n",
    "\n",
    "# Second line contains 'N' single space separated integers representing the elements in the array/list.\n",
    "# Output Format :\n",
    "# For each test case, print the elements of the resulting array in a single row separated by a single space.\n",
    "\n",
    "# Output for every test case will be printed in a separate line.\n",
    "# Constraints :\n",
    "# 1 <= t <= 10^2\n",
    "# 0 <= N <= 10^5\n",
    "# Time Limit: 1sec\n",
    "# Sample Input 1:\n",
    "# 1\n",
    "# 6\n",
    "# 9 3 6 12 4 32\n",
    "# Sample Output 1 :\n",
    "# 3 9 12 6 32 4\n",
    "\n",
    "\n",
    "\n",
    "\n",
    "\n",
    "def swappingAlt(arr):\n",
    "    for i in range(0,len(arr)-1,2):\n",
    "        arr[i],arr[i+1] = arr[i+1],arr[i]\n",
    "    return arr\n",
    "\n",
    "\n",
    "\n",
    "cases = int(input())\n",
    "while cases > 0:\n",
    "    n = int(input())\n",
    "    arr = [int(x) for x in input().split()]\n",
    "    ans = swappingAlt(arr)\n",
    "    print(*ans)\n",
    "    cases -= 1\n",
    "\n",
    "\n"
   ]
  },
  {
   "attachments": {},
   "cell_type": "markdown",
   "metadata": {},
   "source": [
    "##### Find Unique"
   ]
  },
  {
   "cell_type": "code",
   "execution_count": 6,
   "metadata": {},
   "outputs": [
    {
     "name": "stdout",
     "output_type": "stream",
     "text": [
      "1\n"
     ]
    }
   ],
   "source": [
    "# You have been given an integer array/list(ARR) of size N. Where N is equal to [2M + 1].\n",
    "# Now, in the given array/list, 'M' numbers are present twice and one number is present only once.\n",
    "# You need to find and return that number which is unique in the array/list.\n",
    "#  Note:\n",
    "# Unique element is always present in the array/list according to the given condition.\n",
    "# Input format :\n",
    "# The first line contains an Integer 't' which denotes the number of test cases or queries to be run. Then the test cases follow.\n",
    "\n",
    "# First line of each test case or query contains an integer 'N' representing the size of the array/list.\n",
    "\n",
    "# Second line contains 'N' single space separated integers representing the elements in the array/list.\n",
    "# Output Format :\n",
    "# For each test case, print the unique element present in the array.\n",
    "\n",
    "# Output for every test case will be printed in a separate line.\n",
    "# Constraints :\n",
    "# 1 <= t <= 10^2\n",
    "# 0 <= N <= 10^3\n",
    "# Time Limit: 1 sec\n",
    "# Sample Input 1:\n",
    "# 1\n",
    "# 7\n",
    "# 2 3 1 6 3 6 2\n",
    "# Sample Output 1:\n",
    "# 1\n",
    "# Sample Input 2:\n",
    "# 2\n",
    "# 5\n",
    "# 2 4 7 2 7\n",
    "# 9\n",
    "# 1 3 1 3 6 6 7 10 7\n",
    "# Sample Output 2:\n",
    "# 4\n",
    "# 10\n",
    "\n",
    "\n",
    "def unique(arr):\n",
    "    ele = 0\n",
    "    for i in range(len(arr)):\n",
    "        temp = 0\n",
    "        for j in range(i+1, len(arr)):\n",
    "            if(arr[i] == arr[j]):\n",
    "                temp+=1\n",
    "                break\n",
    "        if(temp < 1):\n",
    "            ele = arr[i]\n",
    "            break\n",
    "    return ele                \n",
    "\n",
    "\n",
    "\n",
    "cases = int(input())\n",
    "while cases > 0:\n",
    "    n = int(input())\n",
    "    arr = [int(x) for x in input().split()]\n",
    "    ans = unique(arr)\n",
    "    print(ans)\n",
    "    cases -=1"
   ]
  },
  {
   "attachments": {},
   "cell_type": "markdown",
   "metadata": {},
   "source": [
    "##### Find Duplicate"
   ]
  },
  {
   "cell_type": "code",
   "execution_count": 15,
   "metadata": {},
   "outputs": [
    {
     "name": "stdout",
     "output_type": "stream",
     "text": [
      "3\n"
     ]
    }
   ],
   "source": [
    "# You have been given an integer array/list(ARR) of size N which contains numbers from 0 to (N - 2). Each number is present at least once. That is, if N = 5, the array/list constitutes values ranging from 0 to 3 and among these, there is a single integer value that is present twice. You need to find and return that duplicate number present in the array.\n",
    "# Note :\n",
    "# Duplicate number is always present in the given array/list.\n",
    "# Input format :\n",
    "# The first line contains an Integer 't' which denotes the number of test cases or queries to be run. Then the test cases follow.\n",
    "\n",
    "# First line of each test case or query contains an integer 'N' representing the size of the array/list.\n",
    "\n",
    "# Second line contains 'N' single space separated integers representing the elements in the array/list.\n",
    "# Output Format :\n",
    "# For each test case, print the duplicate element in the array/list.\n",
    "\n",
    "# Output for every test case will be printed in a separate line.\n",
    "# Constraints :\n",
    "# 1 <= t <= 10^2\n",
    "# 0 <= N <= 10^3\n",
    "# Time Limit: 1 sec\n",
    "# Sample Input 1:\n",
    "# 1\n",
    "# 9\n",
    "# 0 7 2 5 4 7 1 3 6\n",
    "# Sample Output 1:\n",
    "# 7\n",
    "# Sample Input 2:\n",
    "# 2\n",
    "# 5\n",
    "# 0 2 1 3 1\n",
    "# 7\n",
    "# 0 3 1 5 4 3 2\n",
    "# Sample Output 2:\n",
    "# 1\n",
    "# 3\n",
    "\n",
    "\t\n",
    "def duplicate(arr):\n",
    "    for ele in arr:\n",
    "        count = 0\n",
    "        for j in range(ele+1, len(arr)):\n",
    "            if ele == arr[j]:\n",
    "                count+=1\n",
    "        if(count == 1):\n",
    "            return ele\n",
    "\n",
    "\n",
    "cases = int(input())\n",
    "while cases > 0:\n",
    "    n = int(input())\n",
    "    arr = [int(x) for x in input().split()]\n",
    "    ans = duplicate(arr)    \n",
    "    print(ans)\n",
    "    cases -=1"
   ]
  },
  {
   "attachments": {},
   "cell_type": "markdown",
   "metadata": {},
   "source": [
    "##### Intersection of Two Arrays II"
   ]
  },
  {
   "cell_type": "code",
   "execution_count": 9,
   "metadata": {},
   "outputs": [
    {
     "name": "stdout",
     "output_type": "stream",
     "text": [
      "2 1 2 "
     ]
    }
   ],
   "source": [
    "# You have been given two integer arrays/list(ARR1 and ARR2) of size N and M, respectively. \n",
    "# You need to print their intersection; \n",
    "# An intersection for this problem can be defined when both the arrays/lists contain a particular \n",
    "# value or to put it in other words, when there is a common value that exists in both the arrays/lists.\n",
    "# Note : Input arrays/lists can contain duplicate elements.\n",
    "\n",
    "# The intersection elements printed would be in the order they appear in the first array/list(ARR1)\n",
    "\n",
    "\n",
    "# Input format :\n",
    "# The first line contains an Integer 't' which denotes the number of test cases or queries to be run. Then the test cases follow.\n",
    "\n",
    "# First line of each test case or query contains an integer 'N' representing the size of the first array/list.\n",
    "\n",
    "# Second line contains 'N' single space separated integers representing the elements of the first the array/list.\n",
    "\n",
    "# Third line contains an integer 'M' representing the size of the second array/list.\n",
    "\n",
    "# Fourth line contains 'M' single space separated integers representing the elements of the second array/list.\n",
    "# Output format :\n",
    "# For each test case, print the intersection elements in a row, separated by a single space.\n",
    "\n",
    "# Output for every test case will be printed in a separate line.\n",
    "# Constraints :\n",
    "# 1 <= t <= 10^2\n",
    "# 0 <= N <= 10^3\n",
    "# 0 <= M <= 10^3\n",
    "# Time Limit: 1 sec \n",
    "# Sample Input 1 :\n",
    "# 2\n",
    "# 6\n",
    "# 2 6 8 5 4 3\n",
    "# 4\n",
    "# 2 3 4 7 \n",
    "# 2\n",
    "# 10 10\n",
    "# 1\n",
    "# 10\n",
    "# Sample Output 1 :\n",
    "# 2 4 3\n",
    "# 10\n",
    "# Sample Input 2 :\n",
    "# 1\n",
    "# 4\n",
    "# 2 6 1 2\n",
    "# 5\n",
    "# 1 2 3 4 2\n",
    "# Sample Output 2 :\n",
    "# 2 1 2\n",
    "# Explanation for Sample Output 2 :\n",
    "# Since, both input arrays have two '2's, the intersection of the arrays also have two '2's. \n",
    "# The first '2' of first array matches with the first '2' of the second array. \n",
    "# Similarly, the second '2' of the first array matches with the second '2' if the second array.\n",
    "\n",
    "import sys\n",
    "\n",
    "def intersection(arr1,size1,arr2,size2):\n",
    "    li = []\n",
    "    for i in range(size1):\n",
    "        for j in range(size2):\n",
    "            if(arr1[i] == arr2[j]):\n",
    "                li.append(arr1[i])\n",
    "                arr2[j] = sys.maxsize\n",
    "                break\n",
    "    return li\n",
    "\n",
    "\n",
    "\n",
    "\n",
    "cases = int(input())\n",
    "while cases > 0:\n",
    "    size1 = int(input())\n",
    "    arr1 = [int(x) for x in input().split()]\n",
    "    size2 = int(input())\n",
    "    arr2 = [int(y) for y in input().split()]\n",
    "    ans = intersection(arr1,size1,arr2,size2)\n",
    "    for ele in ans:\n",
    "        print(ele, end = \" \")\n",
    "    cases-=1\n"
   ]
  },
  {
   "attachments": {},
   "cell_type": "markdown",
   "metadata": {},
   "source": [
    "##### Pair Sum"
   ]
  },
  {
   "cell_type": "code",
   "execution_count": 12,
   "metadata": {},
   "outputs": [
    {
     "name": "stdout",
     "output_type": "stream",
     "text": [
      "0\n",
      "2\n"
     ]
    }
   ],
   "source": [
    "# You have been given an integer array/list(ARR) and a number X. Find and return the total \n",
    "# number of pairs in the array/list which sum to X.\n",
    "# Note:\n",
    "# Given array/list can contain duplicate elements. \n",
    "# Input format :\n",
    "# The first line contains an Integer 't' which denotes the number of test cases or queries to be run. \n",
    "# Then the test cases follow.\n",
    "\n",
    "# First line of each test case or query contains an integer 'N' representing the size of the first array/list.\n",
    "\n",
    "# Second line contains 'N' single space separated integers representing the elements in the array/list.\n",
    "\n",
    "# Third line contains an integer 'X'.\n",
    "# Output format :\n",
    "# For each test case, print the total number of pairs present in the array/list.\n",
    "\n",
    "# Output for every test case will be printed in a separate line.\n",
    "# Constraints :\n",
    "# 1 <= t <= 10^2\n",
    "# 0 <= N <= 10^3\n",
    "# 0 <= X <= 10^9\n",
    "# Time Limit: 1 sec\n",
    "# Sample Input 1:\n",
    "# 1\n",
    "# 9\n",
    "# 1 3 6 2 5 4 3 2 4\n",
    "# 7\n",
    "# Sample Output 1:\n",
    "# 7\n",
    "# Sample Input 2:\n",
    "# 2\n",
    "# 9\n",
    "# 1 3 6 2 5 4 3 2 4\n",
    "# 12\n",
    "# 6\n",
    "# 2 8 10 5 -2 5\n",
    "# 10\n",
    "# Sample Output 2:\n",
    "# 0\n",
    "# 2\n",
    "\n",
    "\n",
    "#  Explanation for Input 2:\n",
    "# Since there doesn't exist any pair with sum equal to 12 for the first query, we print 0.\n",
    "\n",
    "# For the second query, we have 2 pairs in total that sum up to 10. They are, (2, 8) and (5, 5)\n",
    "\n",
    "\n",
    "\n",
    "\n",
    "def pairSum(arr, size, PairSum):\n",
    "    ans = 0\n",
    "    for i in range(size):\n",
    "      for j in range(i+1,size):\n",
    "        if(arr[i]+arr[j] == PairSum):\n",
    "            ans+=1\n",
    "    return ans\n",
    "\n",
    "\n",
    "\n",
    "cases = int(input())\n",
    "while cases > 0:\n",
    "    size = int(input())\n",
    "    arr = [int(x) for x in input().split()]\n",
    "    PairSum = int(input())\n",
    "    ans = pairSum(arr,size,PairSum)\n",
    "    print(ans)\n",
    "    cases -=1"
   ]
  },
  {
   "attachments": {},
   "cell_type": "markdown",
   "metadata": {},
   "source": [
    "##### Sort 0 1"
   ]
  },
  {
   "cell_type": "code",
   "execution_count": 15,
   "metadata": {},
   "outputs": [
    {
     "name": "stdout",
     "output_type": "stream",
     "text": [
      "0 0 0 1 1 1 1 "
     ]
    }
   ],
   "source": [
    "# You have been given an integer array/list(ARR) of size N that contains only integers, 0 and 1. \n",
    "# Write a function to sort this array/list. Think of a solution which scans the array/list only once and don't require use of an extra array/list.\n",
    "# Note:\n",
    "# You need to change in the given array/list itself. Hence, no need to return or print anything. \n",
    "# Input format :\n",
    "# The first line contains an Integer 't' which denotes the number of test cases or queries to be run. \n",
    "# Then the test cases follow.\n",
    "\n",
    "# First line of each test case or query contains an integer 'N' representing the size of the array/list.\n",
    "\n",
    "# Second line contains 'N' single space separated integers(all 0s and 1s) representing the elements in the array/list.\n",
    "# Output format :\n",
    "# For each test case, print the sorted array/list elements in a row separated by a single space.\n",
    "\n",
    "# Output for every test case will be printed in a separate line.\n",
    "# Constraints :\n",
    "# 1 <= t <= 10^2\n",
    "# 0 <= N <= 10^5\n",
    "# Time Limit: 1 sec\n",
    "# Sample Input 1:\n",
    "# 1\n",
    "# 7\n",
    "# 0 1 1 0 1 0 1\n",
    "# Sample Output 1:\n",
    "# 0 0 0 1 1 1 1\n",
    "\n",
    "\n",
    "\n",
    "def sorting(arr,size):\n",
    "    li = []\n",
    "    count = 0\n",
    "    for ele in arr:\n",
    "        if ele == 0:\n",
    "            li.append(ele)\n",
    "            count+=1\n",
    "    for i in range(count,size):\n",
    "        li.append(1)\n",
    "    return li\n",
    "\n",
    "\n",
    "\n",
    "cases = int(input())\n",
    "while cases >=1:\n",
    "    size = int(input())\n",
    "    arr = [int(x) for x in input().split()]\n",
    "    ans = sorting(arr,size)\n",
    "    for ele in ans:\n",
    "        print(ele,end=\" \")\n",
    "    cases -=1\n"
   ]
  }
 ],
 "metadata": {
  "kernelspec": {
   "display_name": "Python 3",
   "language": "python",
   "name": "python3"
  },
  "language_info": {
   "codemirror_mode": {
    "name": "ipython",
    "version": 3
   },
   "file_extension": ".py",
   "mimetype": "text/x-python",
   "name": "python",
   "nbconvert_exporter": "python",
   "pygments_lexer": "ipython3",
   "version": "3.8.10"
  },
  "orig_nbformat": 4,
  "vscode": {
   "interpreter": {
    "hash": "916dbcbb3f70747c44a77c7bcd40155683ae19c65e1c03b4aa3499c5328201f1"
   }
  }
 },
 "nbformat": 4,
 "nbformat_minor": 2
}
