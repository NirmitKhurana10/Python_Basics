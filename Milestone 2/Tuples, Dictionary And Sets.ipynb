{
 "cells": [
  {
   "attachments": {},
   "cell_type": "markdown",
   "metadata": {},
   "source": [
    "## Lists, Tuples, Dictionary And Sets (Basic Ouput Questions)"
   ]
  },
  {
   "attachments": {},
   "cell_type": "markdown",
   "metadata": {},
   "source": [
    "Create a dictionary and take input from the user and return the meaning of the word in dictionary. (4 Words)"
   ]
  },
  {
   "cell_type": "code",
   "execution_count": 8,
   "metadata": {},
   "outputs": [
    {
     "name": "stdout",
     "output_type": "stream",
     "text": [
      "{'hello': '1', 'pen': '2', 'pencil': '3'}\n",
      "3\n"
     ]
    }
   ],
   "source": [
    "user_dict = {}\n",
    "\n",
    "size = int(input('Enter the size of dictionary: '))\n",
    "\n",
    "for i in range(size):\n",
    "    key = input('Enter the key: ')\n",
    "    value = input('Enter the value: ')\n",
    "    user_dict[key] = value\n",
    "\n",
    "\n",
    "print(user_dict)\n",
    "word = input(\"Enter the word: \")\n",
    "if word not in user_dict:\n",
    "    print('Word does not exist in our dictionary')\n",
    "else:\n",
    "    print(user_dict[word])"
   ]
  },
  {
   "attachments": {},
   "cell_type": "markdown",
   "metadata": {},
   "source": [
    "### Lists Basic Questions"
   ]
  },
  {
   "cell_type": "code",
   "execution_count": 9,
   "metadata": {},
   "outputs": [
    {
     "name": "stdout",
     "output_type": "stream",
     "text": [
      "[1, 3, 5, 7, 9]\n"
     ]
    }
   ],
   "source": [
    "# Q-1. What will be the output of the following code snippet?\n",
    "\n",
    "a=[1,2,3,4,5,6,7,8,9]\n",
    "print(a[::2])"
   ]
  },
  {
   "cell_type": "code",
   "execution_count": 1,
   "metadata": {},
   "outputs": [
    {
     "name": "stdout",
     "output_type": "stream",
     "text": [
      "[10, 30, 50, 70, 90]\n"
     ]
    }
   ],
   "source": [
    "# Q-2. What will be the output of the following code snippet?\n",
    "\n",
    "a=[1,2,3,4,5,6,7,8,9]\n",
    "a = a[::2]\n",
    "for i in range(len(a)):\n",
    "    a[i] = a[i] * 10\n",
    "print(a)"
   ]
  },
  {
   "cell_type": "code",
   "execution_count": 2,
   "metadata": {},
   "outputs": [
    {
     "name": "stdout",
     "output_type": "stream",
     "text": [
      "[4, 3, 2]\n"
     ]
    }
   ],
   "source": [
    "# Q-3. What will be the output of the following code snippet?\n",
    "\n",
    "a=[1,2,3,4,5]\n",
    "print(a[3:0:-1])"
   ]
  },
  {
   "cell_type": "code",
   "execution_count": 3,
   "metadata": {},
   "outputs": [
    {
     "name": "stdout",
     "output_type": "stream",
     "text": [
      "3 44\n"
     ]
    }
   ],
   "source": [
    "# Q-4. What will be the output of the following code snippet?\n",
    "\n",
    "def f(value, values):\n",
    "    v = 1\n",
    "    values[0] = 44\n",
    "t = 3\n",
    "v = [1, 2, 3]\n",
    "f(t, v)\n",
    "print(t, v[0])"
   ]
  },
  {
   "cell_type": "code",
   "execution_count": 10,
   "metadata": {},
   "outputs": [
    {
     "name": "stdout",
     "output_type": "stream",
     "text": [
      "['apple', 'banana', 'papaya', 'cherry']\n"
     ]
    }
   ],
   "source": [
    "# Q-5. What is the correct command to shuffle the following list?\n",
    "\n",
    "import random\n",
    "fruit=['apple', 'banana', 'papaya', 'cherry']\n",
    "random.shuffle(fruit)\n",
    "print(fruit)"
   ]
  },
  {
   "cell_type": "code",
   "execution_count": 33,
   "metadata": {},
   "outputs": [
    {
     "name": "stdout",
     "output_type": "stream",
     "text": [
      "4\n"
     ]
    }
   ],
   "source": [
    "# Q-6. What will be the output of the following code snippet?\n",
    "\n",
    "data = [[[1, 2], [3, 4]], [[5, 6], [7, 8]]]\n",
    "def fun(m):\n",
    "    v = m[0][0]\n",
    "    for row in m:\n",
    "        for element in row:\n",
    "            if v < element:\n",
    "                v = element\n",
    "\n",
    "    return v\n",
    "print(fun(data[0]))"
   ]
  },
  {
   "cell_type": "code",
   "execution_count": 36,
   "metadata": {},
   "outputs": [
    {
     "name": "stdout",
     "output_type": "stream",
     "text": [
      "4\n",
      "7\n",
      "11\n",
      "15\n"
     ]
    }
   ],
   "source": [
    "# Q-7. What will be the output of the following code snippet?\n",
    "\n",
    "arr = [[1, 2, 3, 4],\n",
    "       [4, 5, 6, 7],\n",
    "       [8, 9, 10, 11],\n",
    "       [12, 13, 14, 15]]\n",
    "for i in range(0, 4):\n",
    "    print(arr[i].pop())"
   ]
  },
  {
   "cell_type": "code",
   "execution_count": 37,
   "metadata": {},
   "outputs": [
    {
     "name": "stdout",
     "output_type": "stream",
     "text": [
      "[1]\n",
      "[1, 2]\n",
      "[1, 2, 3]\n"
     ]
    },
    {
     "data": {
      "text/plain": [
       "[1, 2, 3]"
      ]
     },
     "execution_count": 37,
     "metadata": {},
     "output_type": "execute_result"
    }
   ],
   "source": [
    "# Q-8. What will be the output of the following code snippet?\n",
    "\n",
    "def f(i, values = []):\n",
    "    values.append(i)\n",
    "    print (values)\n",
    "    return values\n",
    "f(1)\n",
    "f(2)\n",
    "f(3)"
   ]
  },
  {
   "cell_type": "code",
   "execution_count": 38,
   "metadata": {},
   "outputs": [
    {
     "name": "stdout",
     "output_type": "stream",
     "text": [
      "2 3 4 5 6 6 "
     ]
    }
   ],
   "source": [
    "# Q-9. What will be the output of the following code snippet?\n",
    "\n",
    "arr = [1, 2, 3, 4, 5, 6]\n",
    "for i in range(1, 6):\n",
    "    arr[i - 1] = arr[i]\n",
    "for i in range(0, 6): \n",
    "    print(arr[i], end = \" \")"
   ]
  },
  {
   "cell_type": "code",
   "execution_count": 43,
   "metadata": {},
   "outputs": [
    {
     "name": "stdout",
     "output_type": "stream",
     "text": [
      "22\n",
      "['Guava', 'Berry', 'Cherry', 'Papaya']\n",
      "['Guava', 'Berry', 'Cherry', 'Papaya']\n",
      "['Apple', 'Kiwi', 'Cherry', 'Papaya']\n"
     ]
    }
   ],
   "source": [
    "# Q-10. What will be the output of the following code snippet?\n",
    "\n",
    "fruit_list1 = ['Apple', 'Berry', 'Cherry', 'Papaya']\n",
    "fruit_list2 = fruit_list1\n",
    "fruit_list3 = fruit_list1[:] \n",
    "\n",
    "# fruit_list3 is now a new list but fruit_list2 is just another pointer to fruit_list1\n",
    "\n",
    "fruit_list2[0] = 'Guava'\n",
    "fruit_list3[1] = 'Kiwi'\n",
    "\n",
    "sum = 0\n",
    "for ls in (fruit_list1, fruit_list2, fruit_list3):\n",
    "    if ls[0] == 'Guava':\n",
    "        sum += 1\n",
    "    if ls[1] == 'Kiwi':\n",
    "        sum += 20\n",
    "\n",
    "print (sum)"
   ]
  },
  {
   "attachments": {},
   "cell_type": "markdown",
   "metadata": {},
   "source": [
    "### Tuples"
   ]
  },
  {
   "cell_type": "code",
   "execution_count": 46,
   "metadata": {},
   "outputs": [
    {
     "name": "stdout",
     "output_type": "stream",
     "text": [
      "0\n"
     ]
    }
   ],
   "source": [
    "# Q-1. What will be the output of the following code snippet?\n",
    "\n",
    "init_tuple = ()\n",
    "print (init_tuple.__len__())"
   ]
  },
  {
   "cell_type": "code",
   "execution_count": 47,
   "metadata": {},
   "outputs": [
    {
     "name": "stdout",
     "output_type": "stream",
     "text": [
      "True\n"
     ]
    }
   ],
   "source": [
    "# Q-2. What will be the output of the following code snippet?\n",
    "\n",
    "init_tuple_a = 'a', 'b'   # Automatically puts variables in a tuple when assigned to single variable\n",
    "init_tuple_b = ('a', 'b')\n",
    "\n",
    "print (init_tuple_a == init_tuple_b)\n",
    "\n"
   ]
  },
  {
   "cell_type": "code",
   "execution_count": 48,
   "metadata": {},
   "outputs": [
    {
     "name": "stdout",
     "output_type": "stream",
     "text": [
      "('1', '2', '3', '4')\n"
     ]
    }
   ],
   "source": [
    "# Q-3. What will be the output of the following code snippet?\n",
    "\n",
    "init_tuple_a = '1', '2'\n",
    "init_tuple_b = ('3', '4')\n",
    "\n",
    "print (init_tuple_a + init_tuple_b)"
   ]
  },
  {
   "cell_type": "code",
   "execution_count": 71,
   "metadata": {},
   "outputs": [
    {
     "name": "stdout",
     "output_type": "stream",
     "text": [
      "10\n"
     ]
    }
   ],
   "source": [
    "# Q-4. What will be the output of the following code snippet?\n",
    "\n",
    "init_tuple_a = 1, 2\n",
    "init_tuple_b = (3, 4)\n",
    "c = init_tuple_a + init_tuple_b\n",
    "sum1 = 0\n",
    "for x in c:\n",
    "    sum1+= x\n",
    "print(sum1)"
   ]
  },
  {
   "cell_type": "code",
   "execution_count": 76,
   "metadata": {},
   "outputs": [
    {
     "name": "stdout",
     "output_type": "stream",
     "text": [
      "<class 'str'>\n"
     ]
    }
   ],
   "source": [
    "# Q-5. What will be the output of the following code snippet?\n",
    "\n",
    "init_tuple = ('Python') * 3\n",
    "\n",
    "print(type(init_tuple))\n"
   ]
  },
  {
   "cell_type": "code",
   "execution_count": 79,
   "metadata": {},
   "outputs": [
    {
     "ename": "TypeError",
     "evalue": "'tuple' object does not support item assignment",
     "output_type": "error",
     "traceback": [
      "\u001b[1;31m---------------------------------------------------------------------------\u001b[0m",
      "\u001b[1;31mTypeError\u001b[0m                                 Traceback (most recent call last)",
      "Cell \u001b[1;32mIn[79], line 5\u001b[0m\n\u001b[0;32m      1\u001b[0m \u001b[39m# Q-6. What will be the output of the following code snippet?\u001b[39;00m\n\u001b[0;32m      3\u001b[0m init_tuple \u001b[39m=\u001b[39m (\u001b[39m1\u001b[39m,) \u001b[39m*\u001b[39m \u001b[39m3\u001b[39m\n\u001b[1;32m----> 5\u001b[0m init_tuple[\u001b[39m0\u001b[39;49m] \u001b[39m=\u001b[39m \u001b[39m2\u001b[39m\n\u001b[0;32m      7\u001b[0m \u001b[39mprint\u001b[39m(init_tuple)\n",
      "\u001b[1;31mTypeError\u001b[0m: 'tuple' object does not support item assignment"
     ]
    }
   ],
   "source": [
    "# Q-6. What will be the output of the following code snippet?\n",
    "\n",
    "init_tuple = (1,) * 3\n",
    "init_tuple[0] = 2\n",
    "print(init_tuple)"
   ]
  },
  {
   "cell_type": "code",
   "execution_count": 85,
   "metadata": {},
   "outputs": [
    {
     "name": "stdout",
     "output_type": "stream",
     "text": [
      "4\n"
     ]
    }
   ],
   "source": [
    "# Q-7. What will be the output of the following code snippet?\n",
    "\n",
    "init_tuple = ((1, 2),) * 7\n",
    "print(len(init_tuple[3:8]))\n"
   ]
  },
  {
   "attachments": {},
   "cell_type": "markdown",
   "metadata": {},
   "source": [
    "### Dictionaries"
   ]
  },
  {
   "cell_type": "code",
   "execution_count": 87,
   "metadata": {},
   "outputs": [
    {
     "name": "stdout",
     "output_type": "stream",
     "text": [
      "2\n"
     ]
    }
   ],
   "source": [
    "# Q-1. What will be the output of the following code snippet?\n",
    "\n",
    "a = {(1,2):1,(2,3):2}\n",
    "print(a[2,3])"
   ]
  },
  {
   "cell_type": "code",
   "execution_count": 88,
   "metadata": {},
   "outputs": [
    {
     "ename": "KeyError",
     "evalue": "('a', 'b')",
     "output_type": "error",
     "traceback": [
      "\u001b[1;31m---------------------------------------------------------------------------\u001b[0m",
      "\u001b[1;31mKeyError\u001b[0m                                  Traceback (most recent call last)",
      "Cell \u001b[1;32mIn[88], line 4\u001b[0m\n\u001b[0;32m      1\u001b[0m \u001b[39m# Q-2. What will be the output of the following code snippet?\u001b[39;00m\n\u001b[0;32m      3\u001b[0m a \u001b[39m=\u001b[39m {\u001b[39m'\u001b[39m\u001b[39ma\u001b[39m\u001b[39m'\u001b[39m:\u001b[39m1\u001b[39m,\u001b[39m'\u001b[39m\u001b[39mb\u001b[39m\u001b[39m'\u001b[39m:\u001b[39m2\u001b[39m,\u001b[39m'\u001b[39m\u001b[39mc\u001b[39m\u001b[39m'\u001b[39m:\u001b[39m3\u001b[39m}\n\u001b[1;32m----> 4\u001b[0m \u001b[39mprint\u001b[39m (a[\u001b[39m'\u001b[39;49m\u001b[39ma\u001b[39;49m\u001b[39m'\u001b[39;49m,\u001b[39m'\u001b[39;49m\u001b[39mb\u001b[39;49m\u001b[39m'\u001b[39;49m])\n",
      "\u001b[1;31mKeyError\u001b[0m: ('a', 'b')"
     ]
    }
   ],
   "source": [
    "# Q-2. What will be the output of the following code snippet?\n",
    "\n",
    "a = {'a':1,'b':2,'c':3}\n",
    "print (a['a','b'])"
   ]
  },
  {
   "cell_type": "code",
   "execution_count": 91,
   "metadata": {},
   "outputs": [
    {
     "name": "stdout",
     "output_type": "stream",
     "text": [
      "else\n",
      "else\n",
      "else\n",
      "{'Apple': 1, 'Banana': 1, 'apple': 1}\n"
     ]
    }
   ],
   "source": [
    "# Q-3. What will be the output of the following code snippet?\n",
    "\n",
    "fruit = {}\n",
    "\n",
    "def addone(index):\n",
    "    if index in fruit:\n",
    "        fruit[index] += 1\n",
    "        # print('if')\n",
    "    else:\n",
    "        fruit[index] = 1\n",
    "        # print('else')\n",
    "        \n",
    "addone('Apple')\n",
    "addone('Banana')\n",
    "addone('apple')\n",
    "print (len(fruit))"
   ]
  },
  {
   "cell_type": "code",
   "execution_count": 94,
   "metadata": {},
   "outputs": [
    {
     "name": "stdout",
     "output_type": "stream",
     "text": [
      "4\n"
     ]
    }
   ],
   "source": [
    "# Q-4. What will be the output of the following code snippet?\n",
    "\n",
    "arr = {}\n",
    "arr[1] = 1\n",
    "arr['1'] = 2\n",
    "arr[1] += 1\n",
    "\n",
    "sum = 0\n",
    "for k in arr:\n",
    "    sum += arr[k]\n",
    "\n",
    "print (sum)"
   ]
  },
  {
   "cell_type": "code",
   "execution_count": 97,
   "metadata": {},
   "outputs": [
    {
     "name": "stdout",
     "output_type": "stream",
     "text": [
      "6\n"
     ]
    }
   ],
   "source": [
    "# Q-5. What will be the output of the following code snippet?\n",
    "\n",
    "my_dict = {}\n",
    "my_dict[1] = 1\n",
    "my_dict['1'] = 2\n",
    "my_dict[1.0] = 4\n",
    "\n",
    "sum = 0\n",
    "for k in my_dict:\n",
    "    sum += my_dict[k]\n",
    "    \n",
    "print (sum)"
   ]
  },
  {
   "cell_type": "code",
   "execution_count": 104,
   "metadata": {},
   "outputs": [
    {
     "name": "stdout",
     "output_type": "stream",
     "text": [
      "30\n",
      "{(1, 2, 4): 8, (4, 2, 1): 10, (1, 2): 12}\n"
     ]
    }
   ],
   "source": [
    "# Q-6. What will be the output of the following code snippet?\n",
    "\n",
    "my_dict = {}\n",
    "my_dict[(1,2,4)] = 8\n",
    "my_dict[(4,2,1)] = 10\n",
    "my_dict[(1,2)] = 12\n",
    "\n",
    "sum = 0\n",
    "for k in my_dict:\n",
    "    sum += my_dict[k]\n",
    "\n",
    "print (sum)\n",
    "print(my_dict)"
   ]
  },
  {
   "cell_type": "code",
   "execution_count": 113,
   "metadata": {},
   "outputs": [
    {
     "name": "stdout",
     "output_type": "stream",
     "text": [
      "{'box': {'biscuit': 1, 'cake': 3}, 'jars': {'jam': 4}}\n"
     ]
    }
   ],
   "source": [
    "# Q-7. What will be the output of the following code snippet?\n",
    "\n",
    "box = {}\n",
    "jars = {}\n",
    "crates = {}\n",
    "box['biscuit'] = 1\n",
    "box['cake'] = 3\n",
    "jars['jam'] = 4\n",
    "crates['box'] = box\n",
    "crates['jars'] = jars\n",
    "print(crates)"
   ]
  },
  {
   "cell_type": "code",
   "execution_count": 115,
   "metadata": {},
   "outputs": [
    {
     "name": "stdout",
     "output_type": "stream",
     "text": [
      "98\n",
      "97\n",
      "96\n"
     ]
    }
   ],
   "source": [
    "# Q-8. What will be the output of the following code snippet?\n",
    "\n",
    "dict = {'c': 97, 'd': 96, 'b': 98}\n",
    "\n",
    "for _ in sorted(dict): # dic gets sorted on the basis of keys\n",
    "    print (dict[_])"
   ]
  },
  {
   "cell_type": "code",
   "execution_count": 116,
   "metadata": {},
   "outputs": [
    {
     "name": "stdout",
     "output_type": "stream",
     "text": [
      "False\n"
     ]
    }
   ],
   "source": [
    "# Q-9. What will be the output of the following code snippet?\n",
    "\n",
    "rec = {\"Name\" : \"Python\", \"Age\":\"20\"}\n",
    "r = rec.copy()\n",
    "print(id(r) == id(rec))"
   ]
  },
  {
   "cell_type": "code",
   "execution_count": 117,
   "metadata": {},
   "outputs": [
    {
     "name": "stdout",
     "output_type": "stream",
     "text": [
      "False\n"
     ]
    }
   ],
   "source": [
    "# Q-10. What will be the output of the following code snippet?\n",
    "\n",
    "rec = {\"Name\" : \"Python\", \"Age\":\"20\", \"Addr\" : \"NJ\", \"Country\" : \"USA\"}\n",
    "id1 = id(rec)\n",
    "del rec\n",
    "rec = {\"Name\" : \"Python\", \"Age\":\"20\", \"Addr\" : \"NJ\", \"Country\" : \"USA\"}\n",
    "id2 = id(rec)\n",
    "print(id1 == id2)"
   ]
  },
  {
   "cell_type": "code",
   "execution_count": 193,
   "metadata": {},
   "outputs": [
    {
     "name": "stdout",
     "output_type": "stream",
     "text": [
      "{'d': [96], 'c': [97], 'b': [98]}\n"
     ]
    }
   ],
   "source": [
    "# Write a Python program to sort (ascending and descending) a dictionary by value and get the result in dict\n",
    "\n",
    "from operator import itemgetter\n",
    "dict1 = {'c': 97, 'd': 96, 'b': 98}\n",
    "new_dict = {}\n",
    "sorted_values = sorted(dict1.items(), key = itemgetter(1)) # itemgetter(n) constructs a callable that assumes an\n",
    "                                                           # iterable object (e.g. list, tuple, set) as input, and fetches the n-th element out of it\n",
    "for i,j in sorted_values:\n",
    "    new_dict.setdefault(i,[]).append(j)\n",
    "print(new_dict)\n",
    "\n",
    "# second approach\n",
    "\n",
    "# dict1 = {'c': 97, 'd': 96, 'b': 98}\n",
    "# new_dict = {}\n",
    "# sorted_values = sorted(dict1.items(), key = lambda x : x[1]) # lambda is a function of single line which tells \n",
    "# for i,j in sorted_values:\n",
    "#     new_dict.setdefault(i,[]).append(j)\n",
    "# print(new_dict)\n",
    "\n",
    "\n"
   ]
  },
  {
   "cell_type": "code",
   "execution_count": 2,
   "metadata": {},
   "outputs": [
    {
     "name": "stdout",
     "output_type": "stream",
     "text": [
      "{'Name': 'Nirmit', 'Age': 22, 'Prgya': 'Friend'}\n"
     ]
    }
   ],
   "source": [
    "# Write a Python program to add a key to a dictionary.\n",
    "\n",
    "\n",
    "dictionary = {'Name':'Nirmit', 'Age': 22}\n",
    "dictionary.update({'Prgya':'Friend'})\n",
    "print(dictionary)"
   ]
  },
  {
   "cell_type": "code",
   "execution_count": 6,
   "metadata": {},
   "outputs": [
    {
     "name": "stdout",
     "output_type": "stream",
     "text": [
      "{1: 10, 2: 20, 3: 30, 4: 40, 5: 50, 6: 60}\n"
     ]
    }
   ],
   "source": [
    "# Write a Python script to concatenate the following dictionaries to create a new one\n",
    "\n",
    "dic1={1:10, 2:20}\n",
    "dic2={3:30, 4:40}\n",
    "dic3={5:50, 6:60}\n",
    "\n",
    "dic4 = {}\n",
    "\n",
    "for ele in (dic1,dic2,dic3):\n",
    "    dic4.update(ele)\n",
    "\n",
    "print(dic4)"
   ]
  },
  {
   "cell_type": "code",
   "execution_count": 20,
   "metadata": {},
   "outputs": [
    {
     "name": "stdout",
     "output_type": "stream",
     "text": [
      "Key is not present\n"
     ]
    }
   ],
   "source": [
    "# Write a Python program to check whether a given key already exists in a dictionary.\n",
    "\n",
    "rec = {\"Name\" : \"Python\", \"Age\":\"20\", \"Addr\" : \"NJ\", \"Country\" : \"USA\"}\n",
    "key = input(\"Enter the key you want to find\")\n",
    "if key in rec:\n",
    "    print(\"Key is present\")\n",
    "else:\n",
    "    print(\"Key is not present\")"
   ]
  },
  {
   "cell_type": "code",
   "execution_count": 25,
   "metadata": {},
   "outputs": [
    {
     "name": "stdout",
     "output_type": "stream",
     "text": [
      "Name -> Python\n",
      "Age -> 20\n",
      "Addr -> NJ\n",
      "Country -> USA\n"
     ]
    }
   ],
   "source": [
    "# Write a Python program to iterate over dictionaries using for loops.\n",
    "\n",
    "rec = {\"Name\" : \"Python\", \"Age\":\"20\", \"Addr\" : \"NJ\", \"Country\" : \"USA\"}\n",
    "for key,value in rec.items():\n",
    "    print(key,'->',value)\n"
   ]
  },
  {
   "cell_type": "code",
   "execution_count": 39,
   "metadata": {},
   "outputs": [
    {
     "name": "stdout",
     "output_type": "stream",
     "text": [
      "{1: 1, 2: 4, 3: 9, 4: 16, 5: 25, 6: 36, 7: 49, 8: 64, 9: 81, 10: 100, 11: 121, 12: 144}\n"
     ]
    }
   ],
   "source": [
    "# Write a Python script to generate and print a dictionary that contains a number (between 1 and n) in the form (x, x*x).\n",
    "size = int(input('Enter the size: '))\n",
    "d = {}\n",
    "for i in range(1,size+1):\n",
    "    d[i] = i*i\n",
    "\n",
    "print(d)\n"
   ]
  },
  {
   "cell_type": "code",
   "execution_count": 42,
   "metadata": {},
   "outputs": [
    {
     "name": "stdout",
     "output_type": "stream",
     "text": [
      "{1: 1, 2: 4, 3: 9, 4: 16, 5: 25, 6: 36, 7: 49, 8: 64, 9: 81, 10: 100, 11: 121, 12: 144, 13: 169, 14: 196, 15: 225}\n"
     ]
    }
   ],
   "source": [
    "# Write a Python script to print a dictionary where the keys are numbers between 1 and 15 (both included)\n",
    "#  and the values are the square of the keys.\n",
    "\n",
    "d1 = {}\n",
    "for i in range(1,16):\n",
    "    d1[i] = i**2\n",
    "print(d1)"
   ]
  },
  {
   "cell_type": "code",
   "execution_count": 46,
   "metadata": {},
   "outputs": [
    {
     "name": "stdout",
     "output_type": "stream",
     "text": [
      "{'Name': 'Nirmit', 'Age': 22}\n"
     ]
    }
   ],
   "source": [
    "# Write a Python script to merge two Python dictionaries.\n",
    "\n",
    "d1 = {\"Name\":\"Nirmit\"}\n",
    "d2 = {\"Age\":22}\n",
    "d = d1.copy()\n",
    "d.update(d2)\n",
    "print(d)"
   ]
  },
  {
   "cell_type": "code",
   "execution_count": 53,
   "metadata": {},
   "outputs": [
    {
     "name": "stdout",
     "output_type": "stream",
     "text": [
      "291\n"
     ]
    }
   ],
   "source": [
    "# Write a Python program to sum all the items in a dictionary.\n",
    "\n",
    "dictio1 = {'c': 97, 'd': 96, 'b': 98}\n",
    "sum1 = 0\n",
    "for ele in dictio1.values():\n",
    "    sum1+=ele\n",
    "print(sum1)"
   ]
  },
  {
   "cell_type": "code",
   "execution_count": 57,
   "metadata": {},
   "outputs": [
    {
     "name": "stdout",
     "output_type": "stream",
     "text": [
      "912576\n"
     ]
    }
   ],
   "source": [
    "# Write a Python program to multiply all the items in a dictionary.\n",
    "\n",
    "\n",
    "diction1 = {'c': 97, 'd': 96, 'b': 98}\n",
    "mul = 1\n",
    "for ele in diction1.values():\n",
    "    mul*=ele\n",
    "print(mul)"
   ]
  },
  {
   "cell_type": "code",
   "execution_count": 64,
   "metadata": {},
   "outputs": [
    {
     "name": "stdout",
     "output_type": "stream",
     "text": [
      "{'d': 96, 'b': 98}\n"
     ]
    }
   ],
   "source": [
    "# Write a Python program to remove a key from a dictionary.\n",
    "\n",
    "diction1 = {'c': 97, 'd': 96, 'b': 98}\n",
    "# del diction1['c']\n",
    "diction1.pop('c')\n",
    "print(diction1)\n"
   ]
  },
  {
   "cell_type": "code",
   "execution_count": 68,
   "metadata": {},
   "outputs": [
    {
     "name": "stdout",
     "output_type": "stream",
     "text": [
      "{'red': '#FF0000', 'green': '#008000', 'blue': '#0000FF'}\n"
     ]
    }
   ],
   "source": [
    "# Write a Python program to map two lists into a dictionary.\n",
    "keys = ['red', 'green', 'blue']\n",
    "values = ['#FF0000','#008000', '#0000FF']\n",
    "color_dict = dict(zip(keys,values))\n",
    "print(color_dict)\n"
   ]
  },
  {
   "cell_type": "code",
   "execution_count": 74,
   "metadata": {},
   "outputs": [
    {
     "name": "stdout",
     "output_type": "stream",
     "text": [
      "{'c': 97, 'd': 96, 'b': 98}\n"
     ]
    }
   ],
   "source": [
    "# WAP to convert a list into a dictionary\n",
    "\n",
    "\n",
    "diction1 = ['c', 97, 'd', 96, 'b', 98]\n",
    "new_dict = {diction1[i]:diction1[i+1] for i in range(0, len(diction1),2)}\n",
    "print(new_dict)"
   ]
  },
  {
   "cell_type": "code",
   "execution_count": 81,
   "metadata": {},
   "outputs": [
    {
     "name": "stdout",
     "output_type": "stream",
     "text": [
      "[('b', 98), ('c', 97), ('d', 96)]\n"
     ]
    }
   ],
   "source": [
    "# Write a Python program to sort a given dictionary by key\n",
    "\n",
    "diction1 = {'c': 97, 'd': 96, 'b': 98}\n",
    "\n",
    "new_dict = sorted(diction1.items(), key= lambda x: x[0])\n",
    "print(new_dict)\n"
   ]
  },
  {
   "cell_type": "code",
   "execution_count": 88,
   "metadata": {},
   "outputs": [
    {
     "name": "stdout",
     "output_type": "stream",
     "text": [
      "5874\n"
     ]
    }
   ],
   "source": [
    "# Write a Python program to get the maximum and minimum values of a dictionary.\n",
    "\n",
    "my_dict = {'x':500, 'y':5874, 'z': 560}\n",
    "max = 0\n",
    "for i in my_dict.values():\n",
    "    if max < i:\n",
    "        max = i\n",
    "print(max)\n",
    "\n",
    "\n",
    "\n",
    "\n"
   ]
  },
  {
   "cell_type": "code",
   "execution_count": 95,
   "metadata": {},
   "outputs": [
    {
     "name": "stdout",
     "output_type": "stream",
     "text": [
      "{'gfg': 10, 'is': 15, 'best': 20}\n"
     ]
    }
   ],
   "source": [
    "# Remove duplicates in a dictionary\n",
    "\n",
    "test_dict = { 'gfg' : 10, 'is' : 15, 'best' : 20, 'for' : 10, 'geeks' : 20}\n",
    "temp = []\n",
    "new = {}\n",
    "for key,value in test_dict.items():\n",
    "    if value not in temp:\n",
    "        temp.append(value)\n",
    "        new[key] = value\n",
    "print(new)\n"
   ]
  },
  {
   "cell_type": "code",
   "execution_count": 4,
   "metadata": {},
   "outputs": [
    {
     "name": "stdout",
     "output_type": "stream",
     "text": [
      "Dictionary is empty\n"
     ]
    }
   ],
   "source": [
    "# Write a Python program to check if a dictionary is empty or not.\n",
    "\n",
    "\n",
    "my_dict = {}\n",
    "if len(my_dict) == 0:\n",
    "    print('Dictionary is empty')\n",
    "else:\n",
    "    print('Dictionary is not empty')"
   ]
  },
  {
   "cell_type": "code",
   "execution_count": 31,
   "metadata": {},
   "outputs": [
    {
     "name": "stdout",
     "output_type": "stream",
     "text": [
      "[('c', 300), ('b', 400), ('d', 400), ('a', 800)]\n"
     ]
    }
   ],
   "source": [
    "# Write a Python program to combine two dictionary by adding values for common keys and give the result in sorting with values\n",
    "\n",
    "a = {'a':100, 'b':200, 'c':300}\n",
    "b = {'a':700, 'b':200, 'd':400}\n",
    "c = {}\n",
    "for keyA,valueA in a.items():\n",
    "    for keyB,valueB in b.items():\n",
    "        if keyA == keyB:\n",
    "            c[keyA] = valueA + valueB\n",
    "            break\n",
    "for key, value in a.items():\n",
    "    if key not in c:\n",
    "        c[key] = value\n",
    "\n",
    "for key, value in b.items():\n",
    "    if key not in c:\n",
    "        c[key] = value\n",
    "c = sorted(c.items(),key = lambda x: x[1])\n",
    "        \n",
    "print(c)"
   ]
  },
  {
   "cell_type": "code",
   "execution_count": 30,
   "metadata": {},
   "outputs": [
    {
     "name": "stdout",
     "output_type": "stream",
     "text": [
      "{'S005', 'S009', 'S002', 'S007', 'S001'}\n"
     ]
    }
   ],
   "source": [
    "# Write a Python program to print all distinct values in a dictionary.\n",
    "\n",
    "L = [{\"V\":\"S001\"}, {\"V\": \"S002\"}, {\"VI\": \"S001\"}, {\"VI\": \"S005\"}, {\"VII\":\"S005\"}, {\"V\":\"S009\"},{\"VIII\":\"S007\"}]\n",
    "new_set = set()\n",
    "for i in L:\n",
    "    for j in i.values():\n",
    "        new_set.add(j)\n",
    "print(new_set)\n"
   ]
  },
  {
   "cell_type": "code",
   "execution_count": null,
   "metadata": {},
   "outputs": [],
   "source": [
    "# Write a Python program to create and display all combinations of letters, selecting each letter from a different key in a dictionary.\n",
    "\n"
   ]
  }
 ],
 "metadata": {
  "kernelspec": {
   "display_name": "Python 3",
   "language": "python",
   "name": "python3"
  },
  "language_info": {
   "codemirror_mode": {
    "name": "ipython",
    "version": 3
   },
   "file_extension": ".py",
   "mimetype": "text/x-python",
   "name": "python",
   "nbconvert_exporter": "python",
   "pygments_lexer": "ipython3",
   "version": "3.11.1"
  },
  "orig_nbformat": 4
 },
 "nbformat": 4,
 "nbformat_minor": 2
}
