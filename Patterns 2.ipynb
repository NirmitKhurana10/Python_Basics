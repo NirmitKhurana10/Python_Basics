{
 "cells": [
  {
   "attachments": {},
   "cell_type": "markdown",
   "metadata": {},
   "source": [
    "### PATTERNS 2"
   ]
  },
  {
   "attachments": {},
   "cell_type": "markdown",
   "metadata": {},
   "source": [
    "##### Code : Inverted Number Pattern"
   ]
  },
  {
   "cell_type": "code",
   "execution_count": 2,
   "metadata": {},
   "outputs": [
    {
     "name": "stdout",
     "output_type": "stream",
     "text": [
      "4444\n",
      "333\n",
      "22\n",
      "1\n"
     ]
    }
   ],
   "source": [
    "# Print the following pattern for the given N number of rows.\n",
    "# Pattern for N = 4\n",
    "# 4444\n",
    "# 333\n",
    "# 22\n",
    "# 1\n",
    "\n",
    "\n",
    "n = int(input())\n",
    "count = n\n",
    "while count >= 1:\n",
    "    row = 1;\n",
    "    while row <=count:\n",
    "        print(count,end=\"\")\n",
    "        row+=1\n",
    "    count-=1\n",
    "    print()"
   ]
  },
  {
   "attachments": {},
   "cell_type": "markdown",
   "metadata": {},
   "source": [
    "##### Code : Mirror Number Pattern"
   ]
  },
  {
   "cell_type": "code",
   "execution_count": 14,
   "metadata": {},
   "outputs": [
    {
     "name": "stdout",
     "output_type": "stream",
     "text": [
      "   1\n",
      "  12\n",
      " 123\n",
      "1234\n"
     ]
    }
   ],
   "source": [
    "# Print the following pattern for the given N number of rows.\n",
    "# Pattern for N = 4\n",
    "\n",
    "# ...1\n",
    "# ..12\n",
    "# .123\n",
    "# 1234\n",
    "\n",
    "# The dots represent spaces.\n",
    "\n",
    "n = int(input())\n",
    "count = 1\n",
    "while count <= n:\n",
    "    row = 1;\n",
    "    while row <= n - count:\n",
    "        print(\" \",end=\"\")\n",
    "        row+=1\n",
    "    print_row = 1\n",
    "    while row <= n:\n",
    "        print(print_row, end = \"\")\n",
    "        row+=1\n",
    "        print_row+=1\n",
    "    count+=1\n",
    "    print()"
   ]
  },
  {
   "attachments": {},
   "cell_type": "markdown",
   "metadata": {},
   "source": [
    "#### Not that important topic rest can be seen through coding ninjas portal \n",
    "##### USER ID:  nirmitkhurana24@gmail.com (log in with google)"
   ]
  }
 ],
 "metadata": {
  "kernelspec": {
   "display_name": "Python 3",
   "language": "python",
   "name": "python3"
  },
  "language_info": {
   "codemirror_mode": {
    "name": "ipython",
    "version": 3
   },
   "file_extension": ".py",
   "mimetype": "text/x-python",
   "name": "python",
   "nbconvert_exporter": "python",
   "pygments_lexer": "ipython3",
   "version": "3.8.10"
  },
  "orig_nbformat": 4,
  "vscode": {
   "interpreter": {
    "hash": "916dbcbb3f70747c44a77c7bcd40155683ae19c65e1c03b4aa3499c5328201f1"
   }
  }
 },
 "nbformat": 4,
 "nbformat_minor": 2
}
