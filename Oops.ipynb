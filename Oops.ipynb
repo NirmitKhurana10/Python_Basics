{
 "cells": [
  {
   "attachments": {},
   "cell_type": "markdown",
   "metadata": {},
   "source": [
    "### Inheritance"
   ]
  },
  {
   "cell_type": "code",
   "execution_count": 5,
   "metadata": {},
   "outputs": [
    {
     "name": "stdout",
     "output_type": "stream",
     "text": [
      "True   True   Tesla\n"
     ]
    },
    {
     "data": {
      "text/plain": [
       "{'a_c': True, 'sunroof': True}"
      ]
     },
     "execution_count": 5,
     "metadata": {},
     "output_type": "execute_result"
    }
   ],
   "source": [
    "# Parent Class\n",
    "\n",
    "class Vehicle():\n",
    "    def __init__(self, make, model, fuel):\n",
    "        self.make = make\n",
    "        self.model = model\n",
    "        self.fuel = fuel\n",
    "\n",
    "# Child class inheriting Vehicle\n",
    "\n",
    "class Car(Vehicle):\n",
    "    def __init__(self, make, model, fuel,a_c, sunroof):\n",
    "\n",
    "        # class attributes\n",
    "\n",
    "        self.a_c = a_c\n",
    "        self.sunroof = sunroof\n",
    "\n",
    "        # parent Attributes\n",
    "\n",
    "        Vehicle.make = make\n",
    "        Vehicle.model = model\n",
    "        Vehicle.fuel = fuel\n",
    "\n",
    "    def printing(self):\n",
    "        print(self.a_c, \" \", self.sunroof, \" \", self.make)\n",
    "\n",
    "obj = Car(\"Tesla\",\"GEN_1\",\"Petrol\", True, True)\n",
    "obj.printing()"
   ]
  },
  {
   "cell_type": "code",
   "execution_count": 3,
   "metadata": {},
   "outputs": [
    {
     "name": "stdout",
     "output_type": "stream",
     "text": [
      "black\n"
     ]
    }
   ],
   "source": []
  }
 ],
 "metadata": {
  "kernelspec": {
   "display_name": "Python 3",
   "language": "python",
   "name": "python3"
  },
  "language_info": {
   "codemirror_mode": {
    "name": "ipython",
    "version": 3
   },
   "file_extension": ".py",
   "mimetype": "text/x-python",
   "name": "python",
   "nbconvert_exporter": "python",
   "pygments_lexer": "ipython3",
   "version": "3.8.10"
  },
  "orig_nbformat": 4,
  "vscode": {
   "interpreter": {
    "hash": "916dbcbb3f70747c44a77c7bcd40155683ae19c65e1c03b4aa3499c5328201f1"
   }
  }
 },
 "nbformat": 4,
 "nbformat_minor": 2
}
