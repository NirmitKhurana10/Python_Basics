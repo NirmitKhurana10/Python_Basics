{
 "cells": [
  {
   "attachments": {},
   "cell_type": "markdown",
   "metadata": {},
   "source": [
    "### PATTERNS 1"
   ]
  },
  {
   "attachments": {},
   "cell_type": "markdown",
   "metadata": {},
   "source": [
    "##### Code : Square Pattern\n"
   ]
  },
  {
   "cell_type": "code",
   "execution_count": 2,
   "metadata": {},
   "outputs": [
    {
     "name": "stdout",
     "output_type": "stream",
     "text": [
      "666666\n",
      "666666\n",
      "666666\n",
      "666666\n",
      "666666\n",
      "666666\n"
     ]
    }
   ],
   "source": [
    "# Print the following pattern for the given N number of rows.\n",
    "# Pattern for N = 4\n",
    "# 4444\n",
    "# 4444\n",
    "# 4444\n",
    "# 4444\n",
    "\n",
    "\n",
    "n = int(input())\n",
    "count = 0\n",
    "while count < n:\n",
    "    row = 0\n",
    "    while row < n:\n",
    "        print(n, end='')\n",
    "        row+=1\n",
    "    count+=1\n",
    "    print()"
   ]
  },
  {
   "attachments": {},
   "cell_type": "markdown",
   "metadata": {},
   "source": [
    "##### Code : Triangular Star Pattern\n"
   ]
  },
  {
   "cell_type": "code",
   "execution_count": 7,
   "metadata": {},
   "outputs": [
    {
     "name": "stdout",
     "output_type": "stream",
     "text": [
      "*\n",
      "**\n",
      "***\n",
      "****\n"
     ]
    }
   ],
   "source": [
    "# Print the following pattern for the given N number of rows.\n",
    "# Pattern for N = 4\n",
    "# *\n",
    "# **\n",
    "# ***\n",
    "# ****\n",
    "\n",
    "n = int(input())\n",
    "count = 0\n",
    "while count < n:\n",
    "    row = 0;\n",
    "    while row <= count:\n",
    "        print(\"*\",end=\"\")\n",
    "        row+=1\n",
    "    count+=1\n",
    "    print()"
   ]
  },
  {
   "attachments": {},
   "cell_type": "markdown",
   "metadata": {},
   "source": [
    "##### Code : Triangle Number Pattern"
   ]
  },
  {
   "cell_type": "code",
   "execution_count": 13,
   "metadata": {},
   "outputs": [
    {
     "name": "stdout",
     "output_type": "stream",
     "text": [
      "1\n",
      "22\n",
      "333\n",
      "4444\n"
     ]
    }
   ],
   "source": [
    "# Print the following pattern for the given N number of rows.\n",
    "# Pattern for N = 4\n",
    "# 1\n",
    "# 22\n",
    "# 333\n",
    "# 4444\n",
    "\n",
    "\n",
    "n = int(input())\n",
    "count = 1\n",
    "while count <= n:\n",
    "    row = 1;\n",
    "    while row <=count:\n",
    "        print(count,end=\"\")\n",
    "        row+=1\n",
    "    count+=1\n",
    "    print()"
   ]
  },
  {
   "attachments": {},
   "cell_type": "markdown",
   "metadata": {},
   "source": [
    "##### Code : Reverse Number Pattern"
   ]
  },
  {
   "cell_type": "code",
   "execution_count": 14,
   "metadata": {},
   "outputs": [
    {
     "name": "stdout",
     "output_type": "stream",
     "text": [
      "1\n",
      "21\n",
      "321\n",
      "4321\n"
     ]
    }
   ],
   "source": [
    "# Print the following pattern for the given N number of rows.\n",
    "# Pattern for N = 4\n",
    "# 1\n",
    "# 21\n",
    "# 321\n",
    "# 4321\n",
    "\n",
    "\n",
    "n = int(input())\n",
    "count = 1\n",
    "while count <= n:\n",
    "    row = 1;\n",
    "    print_row = count\n",
    "    while row <=count:\n",
    "        print(print_row,end=\"\")\n",
    "        row+=1\n",
    "        print_row-=1\n",
    "    count+=1\n",
    "    print()"
   ]
  },
  {
   "attachments": {},
   "cell_type": "markdown",
   "metadata": {},
   "source": [
    "##### Code : Character Pattern"
   ]
  },
  {
   "cell_type": "code",
   "execution_count": 15,
   "metadata": {},
   "outputs": [
    {
     "name": "stdout",
     "output_type": "stream",
     "text": [
      "A\n",
      "BC\n",
      "CDE\n",
      "DEFG\n"
     ]
    }
   ],
   "source": [
    "# Print the following pattern for the given N number of rows.\n",
    "# Pattern for N = 4\n",
    "# A\n",
    "# BC\n",
    "# CDE\n",
    "# DEFG\n",
    "\n",
    "n = int(input())\n",
    "\n",
    "i = 1\n",
    "while i <= n:\n",
    "    start_char = chr(ord('A') + i - 1)\n",
    "    j = 1\n",
    "    while j <= i:\n",
    "        charP = chr(ord(start_char) + j - 1)\n",
    "        print(charP, end = \"\")\n",
    "        j = j + 1\n",
    "    print()\n",
    "    i = i + 1"
   ]
  },
  {
   "attachments": {},
   "cell_type": "markdown",
   "metadata": {},
   "source": [
    "##### Number Pattern 2"
   ]
  },
  {
   "cell_type": "code",
   "execution_count": 24,
   "metadata": {},
   "outputs": [
    {
     "name": "stdout",
     "output_type": "stream",
     "text": [
      "1\n",
      "11\n",
      "202\n",
      "3003\n"
     ]
    }
   ],
   "source": [
    "# Print the following pattern for the given N number of rows.\n",
    "# Pattern for N = 4\n",
    "# 1\n",
    "# 11\n",
    "# 202\n",
    "# 3003\n",
    "\n",
    "\n",
    "n = int(input())\n",
    "print(1)\n",
    "count = 1\n",
    "while count < n:\n",
    "    row = 0;\n",
    "    while row <= count:\n",
    "        if(row == 0 or row == count):\n",
    "            print(count,end=\"\")\n",
    "        else:\n",
    "            print(\"0\",end=\"\")\n",
    "        row+=1\n",
    "    count+=1\n",
    "    print()"
   ]
  }
 ],
 "metadata": {
  "kernelspec": {
   "display_name": "Python 3",
   "language": "python",
   "name": "python3"
  },
  "language_info": {
   "codemirror_mode": {
    "name": "ipython",
    "version": 3
   },
   "file_extension": ".py",
   "mimetype": "text/x-python",
   "name": "python",
   "nbconvert_exporter": "python",
   "pygments_lexer": "ipython3",
   "version": "3.8.10"
  },
  "orig_nbformat": 4,
  "vscode": {
   "interpreter": {
    "hash": "916dbcbb3f70747c44a77c7bcd40155683ae19c65e1c03b4aa3499c5328201f1"
   }
  }
 },
 "nbformat": 4,
 "nbformat_minor": 2
}
