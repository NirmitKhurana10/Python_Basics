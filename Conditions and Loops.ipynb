{
 "cells": [
  {
   "attachments": {},
   "cell_type": "markdown",
   "metadata": {},
   "source": [
    "### Conditions and Loops"
   ]
  },
  {
   "attachments": {},
   "cell_type": "markdown",
   "metadata": {},
   "source": [
    "##### Check number"
   ]
  },
  {
   "cell_type": "code",
   "execution_count": null,
   "metadata": {},
   "outputs": [],
   "source": [
    "# Given an integer n, find if n is positive, negative or 0.\n",
    "# If n is positive, print \"Positive\"\n",
    "# If n is negative, print \"Negative\"\n",
    "# And if n is equal to 0, print \"Zero\".\n",
    "# Input Format :\n",
    "# Integer n\n",
    "# Output Format :\n",
    "# \"Positive\" or \"Negative\" or \"Zero\" (without double quotes)\n",
    "# Constraints :\n",
    "# -100 <= n <= 100\n",
    "# Sample Input 1 :\n",
    "# 10\n",
    "# Sample Output 1 :\n",
    "# Positive\n",
    "# Sample Input 2 :\n",
    "# -10\n",
    "# Sample Output 2 :\n",
    "# Negative\n",
    "\n",
    "\n",
    "a = int(input())\n",
    "\n",
    "if (a > 0):\n",
    "    print(\"Positive\")\n",
    "elif(a < 0):\n",
    "    print(\"Negative\")\n",
    "else:\n",
    "    print(\"Zero\")"
   ]
  }
 ],
 "metadata": {
  "kernelspec": {
   "display_name": "Python 3",
   "language": "python",
   "name": "python3"
  },
  "language_info": {
   "name": "python",
   "version": "3.11.1"
  },
  "orig_nbformat": 4,
  "vscode": {
   "interpreter": {
    "hash": "438f12176dc4e3a72f6ecf05b0a3153af1e566413d8f2d9a81aafac1c55402a7"
   }
  }
 },
 "nbformat": 4,
 "nbformat_minor": 2
}
