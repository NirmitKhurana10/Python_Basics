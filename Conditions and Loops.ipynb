{
 "cells": [
  {
   "attachments": {},
   "cell_type": "markdown",
   "metadata": {},
   "source": [
    "### Conditions and Loops"
   ]
  },
  {
   "attachments": {},
   "cell_type": "markdown",
   "metadata": {},
   "source": [
    "##### Check number"
   ]
  },
  {
   "cell_type": "code",
   "execution_count": null,
   "metadata": {},
   "outputs": [],
   "source": [
    "# Given an integer n, find if n is positive, negative or 0.\n",
    "# If n is positive, print \"Positive\"\n",
    "# If n is negative, print \"Negative\"\n",
    "# And if n is equal to 0, print \"Zero\".\n",
    "# Input Format :\n",
    "# Integer n\n",
    "# Output Format :\n",
    "# \"Positive\" or \"Negative\" or \"Zero\" (without double quotes)\n",
    "# Constraints :\n",
    "# -100 <= n <= 100\n",
    "# Sample Input 1 :\n",
    "# 10\n",
    "# Sample Output 1 :\n",
    "# Positive\n",
    "# Sample Input 2 :\n",
    "# -10\n",
    "# Sample Output 2 :\n",
    "# Negative\n",
    "\n",
    "\n",
    "a = int(input())\n",
    "\n",
    "if (a > 0):\n",
    "    print(\"Positive\")\n",
    "elif(a < 0):\n",
    "    print(\"Negative\")\n",
    "else:\n",
    "    print(\"Zero\")"
   ]
  },
  {
   "attachments": {},
   "cell_type": "markdown",
   "metadata": {},
   "source": [
    "##### Sum of n numbers"
   ]
  },
  {
   "cell_type": "code",
   "execution_count": 3,
   "metadata": {},
   "outputs": [
    {
     "name": "stdout",
     "output_type": "stream",
     "text": [
      "10\n"
     ]
    }
   ],
   "source": [
    "# Sum of n numbers\n",
    "# Send Feedback\n",
    "# Given an integer n, find and print the sum of numbers from 1 to n.\n",
    "# Note\n",
    "# Use while loop only.\n",
    "# Input Format :\n",
    "# Integer n\n",
    "# Output Format :\n",
    "# Sum of numbers\n",
    "# Constraints :\n",
    "# 1 <= n <= 100\n",
    "# Sample Input :\n",
    "# 10\n",
    "# Sample Output :\n",
    "# 55\n",
    "\n",
    "\n",
    "\n",
    "\n",
    "n = int(input())\n",
    "count = 0\n",
    "sum1 = 0\n",
    "while(count <= n):\n",
    "    sum1 = sum1 + count\n",
    "    count = count+1\n",
    "print(sum1)"
   ]
  },
  {
   "attachments": {},
   "cell_type": "markdown",
   "metadata": {},
   "source": [
    "##### Sum of even numbers"
   ]
  },
  {
   "cell_type": "code",
   "execution_count": 7,
   "metadata": {},
   "outputs": [
    {
     "name": "stdout",
     "output_type": "stream",
     "text": [
      "12\n"
     ]
    }
   ],
   "source": [
    "# Sum of Even Numbers\n",
    "# Send Feedback\n",
    "# Given a number N, print sum of all even numbers from 1 to N.\n",
    "# Input Format :\n",
    "# Integer N\n",
    "# Output Format :\n",
    "# Required Sum \n",
    "# Sample Input 1 :\n",
    "#  6\n",
    "# Sample Output 1 :\n",
    "# 12\n",
    "\n",
    "\n",
    "n = int(input())\n",
    "count = 0\n",
    "sum1 = 0\n",
    "while(count <= n):\n",
    "    if(count % 2 == 0):\n",
    "        sum1 = sum1 + count\n",
    "        count = count+1\n",
    "    else:\n",
    "        count+=1\n",
    "print(sum1)\n"
   ]
  },
  {
   "attachments": {},
   "cell_type": "markdown",
   "metadata": {},
   "source": [
    "##### Fahrenheit to Celsius"
   ]
  },
  {
   "cell_type": "code",
   "execution_count": 11,
   "metadata": {},
   "outputs": [
    {
     "name": "stdout",
     "output_type": "stream",
     "text": [
      "0   -17.77777777777778\n",
      "20   -6.666666666666667\n",
      "40   4.444444444444445\n",
      "60   15.555555555555555\n",
      "80   26.666666666666668\n",
      "100   37.77777777777778\n"
     ]
    }
   ],
   "source": [
    "# Given three values - Start Fahrenheit Value (S), End Fahrenheit value (E) and Step Size (W), you need to convert all Fahrenheit values from Start to End at the gap of W, \n",
    "# into their corresponding Celsius values and print the table.\n",
    "# Input Format :\n",
    "# 3 integers - S, E and W respectively \n",
    "# Output Format :\n",
    "# Fahrenheit to Celsius conversion table.\n",
    "#  One line for every Fahrenheit and corresponding Celsius value in integer form. \n",
    "# The Fahrenheit value and its corresponding Celsius value should be separate by single space.\n",
    "# Constraints :\n",
    "# 0 <= S <= 90\n",
    "# S <= E <=  900\n",
    "# 0 <= W <= 80 \n",
    "# Sample Input 1:\n",
    "# 0 \n",
    "# 100 \n",
    "# 20\n",
    "# Sample Output 1:\n",
    "# 0   -17\n",
    "# 20  -6\n",
    "# 40  4\n",
    "# 60  15\n",
    "# 80  26\n",
    "# 100 37\n",
    "# Sample Input 2:\n",
    "# 20\n",
    "# 119\n",
    "# 13\n",
    "# Sample Output 2:\n",
    "# 20  -6\n",
    "# 33  0 \n",
    "# 46  7\n",
    "# 59  15\n",
    "# 72  22\n",
    "# 85  29\n",
    "# 98  36\n",
    "# 111 43\n",
    "# Explanation For Input 2:\n",
    "# Start calculating the Celsius values for each Fahrenheit Value which starts from 20. \n",
    "# So starting from 20, we need to compute its corresponding Celsius value which computes to -6.\n",
    "# We print this information as <Fahrenheit Value> <a single space> <Celsius Value> on each line. \n",
    "# Now add 13 to Fahrenheit Value at each step until you reach 119 in this case.\n",
    "# You may or may not exactly land on the end value depending on the steps you are taking.\n",
    "\n",
    "\n",
    "\n",
    "Start = int(input())\n",
    "End = int(input())\n",
    "Step = int(input())\n",
    "\n",
    "while(Start <= End):\n",
    "    cel = (Start - 32) * 5/9\n",
    "    ans = int(cel)\n",
    "    print(Start,\" \",ans)\n",
    "    Start = Start + Step\n",
    "\n"
   ]
  },
  {
   "attachments": {},
   "cell_type": "markdown",
   "metadata": {},
   "source": [
    "##### Calculator"
   ]
  },
  {
   "cell_type": "code",
   "execution_count": null,
   "metadata": {},
   "outputs": [],
   "source": [
    "# Write a program that performs the tasks of a simple calculator. The program should first take an integer as input and then based on that integer perform the task as given below.\n",
    "# 1. If the input is 1, then 2 integers are taken from the user and their sum is printed.\n",
    "# 2. If the input is 2, then 2 integers are taken from the user and their difference(1st number - 2nd number) is printed.\n",
    "# 3. If the input is 3, then 2 integers are taken from the user and their product is printed.\n",
    "# 4. If the input is 4, then 2 integers are taken from the user and the quotient obtained (on dividing 1st number by 2nd number) is printed.\n",
    "# 5. If the input is 5, then 2 integers are taken from the user and their remainder(1st number mod 2nd number) is printed.\n",
    "# 6. If the input is 6, then the program exits.\n",
    "# 7. For any other input, then print \"Invalid Operation\".\n",
    "# Note: Each answer in next line.\n",
    "# Input format:\n",
    "# Take integers as input, in accordance to the description of the question. \n",
    "# Constraints:\n",
    "# Time Limit: 1 second\n",
    "# Output format:\n",
    "# The output lines must be as prescribed in the description of the question.\n",
    "# Sample Input:\n",
    "# 3\n",
    "# 1\n",
    "# 2\n",
    "# 4\n",
    "# 4\n",
    "# 2\n",
    "# 1\n",
    "# 3\n",
    "# 2\n",
    "# 7\n",
    "# 6\n",
    "# Sample Output:\n",
    "# 2\n",
    "# 2\n",
    "# 5\n",
    "# Invalid Operation\n",
    "# Explanation of the sample input\n",
    "# The first number given is 3, so that means two more numbers will be given and we'll have to multiply them and show the result. \n",
    "# The two numbers are 1 and 2. Their product is 2, so 2 is displayed first in the output. Similarly, all the numbers are processed in groups of three. \n",
    "# The first number tells the operation and the next two numbers tell on which numbers the operation is done. This applies to numbers from 1 to 5. \n",
    "# If the input is 6 (like it is at the end), two more numbers will NOT be provided, you simply have to exit the program. Also, if the input is \n",
    "# any number except 1 to 6 (like 7 which is at the second last), then you simply have to print \"Invalid Operation\"\n",
    "\n",
    "\n",
    "\n",
    "\n",
    "\n"
   ]
  }
 ],
 "metadata": {
  "kernelspec": {
   "display_name": "Python 3",
   "language": "python",
   "name": "python3"
  },
  "language_info": {
   "codemirror_mode": {
    "name": "ipython",
    "version": 3
   },
   "file_extension": ".py",
   "mimetype": "text/x-python",
   "name": "python",
   "nbconvert_exporter": "python",
   "pygments_lexer": "ipython3",
   "version": "3.11.1"
  },
  "orig_nbformat": 4,
  "vscode": {
   "interpreter": {
    "hash": "438f12176dc4e3a72f6ecf05b0a3153af1e566413d8f2d9a81aafac1c55402a7"
   }
  }
 },
 "nbformat": 4,
 "nbformat_minor": 2
}
