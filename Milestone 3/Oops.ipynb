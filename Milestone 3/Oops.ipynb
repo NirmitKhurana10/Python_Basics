{
 "cells": [
  {
   "attachments": {},
   "cell_type": "markdown",
   "metadata": {},
   "source": [
    "### Inheritance"
   ]
  },
  {
   "cell_type": "code",
   "execution_count": 17,
   "metadata": {},
   "outputs": [
    {
     "name": "stdout",
     "output_type": "stream",
     "text": [
      "This is private\n"
     ]
    }
   ],
   "source": [
    "# Parent Class\n",
    "class Vehicle():\n",
    "    def __init__(self,make,model,fuel):\n",
    "        self.make=make\n",
    "        self.__model=model\n",
    "        self.__fuel=fuel\n",
    "    def __private_method_parent(self):\n",
    "        print(\"This is private\")\n",
    "        \n",
    "\n",
    "# Child Class\n",
    "class Car(Vehicle):\n",
    "    def __init__(self,make,model,fuel,air_conditioning,sunroof):\n",
    "        # Parent Attributes\n",
    "        Vehicle.make=make\n",
    "        Vehicle.__model=model\n",
    "        Vehicle.__fuel=fuel\n",
    "        self.air_conditioning=air_conditioning\n",
    "        self.sunroof=sunroof\n",
    "    def show_parent_attribute(self):\n",
    "        print(Vehicle.make,\" \",Vehicle.__model,\" \",Vehicle.__fuel)\n",
    "    def show_privatemethod_ofparent(self):\n",
    "        self._Vehicle__private_method_parent()\n",
    "        \n",
    "myobj=Car(\"Tesla\",2019,\"Electric\",True,True)\n",
    "# myobj.__dict__\n",
    "# myobj.show_parent_attribute()\n",
    "# myobj.make\n",
    "# myobj.model\n",
    "# myobj.__model\n",
    "# myobj.__private_method_parent()\n",
    "myobj.show_privatemethod_ofparent()"
   ]
  },
  {
   "attachments": {},
   "cell_type": "markdown",
   "metadata": {},
   "source": [
    "##### Super()"
   ]
  },
  {
   "cell_type": "code",
   "execution_count": 7,
   "metadata": {},
   "outputs": [
    {
     "data": {
      "text/plain": [
       "'Tesla'"
      ]
     },
     "execution_count": 7,
     "metadata": {},
     "output_type": "execute_result"
    }
   ],
   "source": [
    "# Parent Class\n",
    "class Vehicle():\n",
    "    def __init__(self,make,model,fuel):\n",
    "        self.make=make\n",
    "        self.__model=model\n",
    "        self.__fuel=fuel\n",
    "    def __private_method_parent(self):\n",
    "        print(\"This is private\")\n",
    "        \n",
    "# Child Class\n",
    "class Car(Vehicle):\n",
    "    def __init__(self,make,model,fuel,air_conditioning,sunroof):\n",
    "        super(Car,self).__init__(make,model,fuel)\n",
    "        self.air_conditioning=air_conditioning\n",
    "        self.sunroof=sunroof\n",
    "myobj=Car(\"Tesla\",2019,\"Electric\",True,True)\n",
    "myobj.__dict__\n",
    "myobj.make"
   ]
  },
  {
   "attachments": {},
   "cell_type": "markdown",
   "metadata": {},
   "source": [
    "##### Polymorphism"
   ]
  },
  {
   "cell_type": "code",
   "execution_count": 5,
   "metadata": {},
   "outputs": [
    {
     "name": "stdout",
     "output_type": "stream",
     "text": [
      "This is child override method\n",
      "This is private\n"
     ]
    },
    {
     "data": {
      "text/plain": [
       "1666.6666666666665"
      ]
     },
     "execution_count": 5,
     "metadata": {},
     "output_type": "execute_result"
    }
   ],
   "source": [
    "# Parent Class\n",
    "class Vehicle():\n",
    "    current_year=2021\n",
    "    base_price=1000\n",
    "    \n",
    "    def __init__(self,make,model,fuel):\n",
    "        self.make=make\n",
    "        self.__model=model\n",
    "        self.__fuel=fuel\n",
    "    def __private_method_parent(self):\n",
    "        print(\"This is private\")\n",
    "    def get_value(self):\n",
    "        age=Vehicle.current_year-self.__model\n",
    "        return Vehicle.base_price*(1/age)\n",
    "# Child Class\n",
    "class Car(Vehicle):\n",
    "    def __init__(self,make,model,fuel,air_conditioning,sunroof):\n",
    "        super(Car,self).__init__(make,model,fuel)\n",
    "        self.air_conditioning=air_conditioning\n",
    "        self.sunroof=sunroof\n",
    "    def get_value(self):\n",
    "        Vehicle.base_price=5000\n",
    "        age=Vehicle.current_year-self._Vehicle__model\n",
    "        print(\"This is child override method\")\n",
    "        return Vehicle.base_price*(1/age)\n",
    "    \n",
    "myobj=Car(\"Tesla\",2019,\"Electric\",True,True)\n",
    "myobj.__dict__\n",
    "myobj.get_value()\n",
    "myobj._Vehicle__private_method_parent()\n",
    "myparentobj=Vehicle(\"Ford\",2018,\"petrol\")\n",
    "myparentobj.get_value()"
   ]
  },
  {
   "attachments": {},
   "cell_type": "markdown",
   "metadata": {},
   "source": [
    "#### Inheritance example"
   ]
  },
  {
   "cell_type": "code",
   "execution_count": 23,
   "metadata": {},
   "outputs": [
    {
     "name": "stdout",
     "output_type": "stream",
     "text": [
      "Dell HP Lenovo Apple \n",
      "Currently selected brand:  Dell\n",
      "Dell  RAM:  8 GB  Space:  512 GB\n"
     ]
    }
   ],
   "source": [
    "class laptops():\n",
    "    def __init__(self,brands,curr_brand):\n",
    "        self.all_brands = brands\n",
    "        self.passed_brand = curr_brand\n",
    "    \n",
    "    def print_brands(self):\n",
    "        for ele in self.all_brands:\n",
    "            print(ele, end=' ')\n",
    "        print()\n",
    "        print(\"Currently selected brand: \",self.passed_brand)        \n",
    "\n",
    "\n",
    "class dell(laptops):\n",
    "\n",
    "    def __init__(self,ram,space):\n",
    "        super().__init__(brands=['Dell','HP','Lenovo','Apple'],curr_brand='Dell')\n",
    "        self.ram_dell = ram\n",
    "        self.space_dell = space\n",
    "        \n",
    "\n",
    "    def print_specs(self):\n",
    "        print(self.passed_brand, \" RAM: \", self.ram_dell, \" Space: \", self.space_dell)   \n",
    "\n",
    "obj = dell('8 GB','512 GB')\n",
    "obj.print_brands()\n",
    "obj.print_specs()\n",
    "\n",
    "        "
   ]
  },
  {
   "attachments": {},
   "cell_type": "markdown",
   "metadata": {},
   "source": [
    "##### Basic Implementation of a class"
   ]
  },
  {
   "cell_type": "code",
   "execution_count": 7,
   "metadata": {},
   "outputs": [
    {
     "name": "stdout",
     "output_type": "stream",
     "text": [
      "Nirmit Khurana\n"
     ]
    }
   ],
   "source": [
    "class nirmit():\n",
    "    def __init__(self, emp_name):\n",
    "        self.name = emp_name\n",
    "    def print_val(self):\n",
    "        print(self.name)\n",
    "\n",
    "obj = nirmit(\"Nirmit Khurana\")\n",
    "obj.print_val()"
   ]
  }
 ],
 "metadata": {
  "kernelspec": {
   "display_name": "Python 3",
   "language": "python",
   "name": "python3"
  },
  "language_info": {
   "codemirror_mode": {
    "name": "ipython",
    "version": 3
   },
   "file_extension": ".py",
   "mimetype": "text/x-python",
   "name": "python",
   "nbconvert_exporter": "python",
   "pygments_lexer": "ipython3",
   "version": "3.8.10"
  },
  "orig_nbformat": 4,
  "vscode": {
   "interpreter": {
    "hash": "916dbcbb3f70747c44a77c7bcd40155683ae19c65e1c03b4aa3499c5328201f1"
   }
  }
 },
 "nbformat": 4,
 "nbformat_minor": 2
}
