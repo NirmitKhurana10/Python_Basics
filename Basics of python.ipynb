{
 "cells": [
  {
   "cell_type": "code",
   "execution_count": null,
   "metadata": {},
   "outputs": [],
   "source": [
    "# BASICS OF PYTHON\n"
   ]
  },
  {
   "cell_type": "markdown",
   "metadata": {},
   "source": []
  }
 ],
 "metadata": {
  "kernelspec": {
   "display_name": "Python 3",
   "language": "python",
   "name": "python3"
  },
  "language_info": {
   "name": "python",
   "version": "3.11.1"
  },
  "orig_nbformat": 4,
  "vscode": {
   "interpreter": {
    "hash": "438f12176dc4e3a72f6ecf05b0a3153af1e566413d8f2d9a81aafac1c55402a7"
   }
  }
 },
 "nbformat": 4,
 "nbformat_minor": 2
}
