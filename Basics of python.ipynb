{
 "cells": [
  {
   "attachments": {},
   "cell_type": "markdown",
   "metadata": {},
   "source": [
    "#### BASICS OF PYTHON\n"
   ]
  },
  {
   "attachments": {},
   "cell_type": "markdown",
   "metadata": {},
   "source": [
    "##### Find average Marks"
   ]
  },
  {
   "cell_type": "code",
   "execution_count": 2,
   "metadata": {},
   "outputs": [
    {
     "name": "stdout",
     "output_type": "stream",
     "text": [
      "4.333333333333333\n"
     ]
    }
   ],
   "source": [
    "# Write a program to input marks of three tests of a student (all integers). Then calculate and print the average of all test marks.\n",
    "# Input format :\n",
    "# 3 Test marks (in different lines)\n",
    "# Output format :\n",
    "\n",
    "# Average \n",
    "\n",
    "# Sample Input 1 :\n",
    "# 3\n",
    "# 4\n",
    "# 6\n",
    "\n",
    "# Sample Output 1 :\n",
    "# 4.333333333333333\n",
    "\n",
    "# Sample Input 2 :\n",
    "# 5 \n",
    "# 10 \n",
    "# 5\n",
    "\n",
    "# Sample Output 2 :\n",
    "# 6.666666666666667\n",
    "\n",
    "\n",
    "a = int(input())\n",
    "b = int(input())\n",
    "c = int(input())\n",
    "\n",
    "sum = ((a+b+c) / 3)\n",
    "\n",
    "print(sum)"
   ]
  },
  {
   "attachments": {},
   "cell_type": "markdown",
   "metadata": {},
   "source": [
    "##### Find X raised to power N"
   ]
  },
  {
   "cell_type": "code",
   "execution_count": null,
   "metadata": {},
   "outputs": [],
   "source": []
  }
 ],
 "metadata": {
  "kernelspec": {
   "display_name": "Python 3",
   "language": "python",
   "name": "python3"
  },
  "language_info": {
   "codemirror_mode": {
    "name": "ipython",
    "version": 3
   },
   "file_extension": ".py",
   "mimetype": "text/x-python",
   "name": "python",
   "nbconvert_exporter": "python",
   "pygments_lexer": "ipython3",
   "version": "3.11.1"
  },
  "orig_nbformat": 4,
  "vscode": {
   "interpreter": {
    "hash": "438f12176dc4e3a72f6ecf05b0a3153af1e566413d8f2d9a81aafac1c55402a7"
   }
  }
 },
 "nbformat": 4,
 "nbformat_minor": 2
}
